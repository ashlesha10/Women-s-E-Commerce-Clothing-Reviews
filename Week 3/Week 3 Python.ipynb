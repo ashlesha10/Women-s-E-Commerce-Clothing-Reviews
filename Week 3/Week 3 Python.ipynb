{
 "cells": [
  {
   "cell_type": "markdown",
   "metadata": {},
   "source": [
    "# PROJECT FOR ALY6020-Predictive Analytics\n",
    "Analysis of Women's E-Commerce Clothing Reviews\n",
    "- Link to the dataset: https://www.kaggle.com/nicapotato/womens-ecommerce-clothing-reviews\n",
    "\n",
    " \n",
    "\n",
    "GROUP MEMBERS:\n",
    "- Ashlesha Kshirsagar\n",
    "- Shruti Avinash Pawar\n",
    "\n",
    "\n",
    "Week 2- EDA\n",
    "Week 3- NLP, GLM\n",
    "Week 4- KNN, RF, GB\n",
    "\n",
    " "
   ]
  },
  {
   "cell_type": "code",
   "execution_count": 1,
   "metadata": {},
   "outputs": [],
   "source": [
    "# Importing libraries as required \n",
    "import pandas as pd\n",
    "import numpy as np\n",
    "import scipy\n",
    "import re\n",
    "import string\n",
    "\n",
    "import seaborn as sns\n",
    "import matplotlib.pyplot as plt\n",
    "import scikitplot as skplt\n",
    "from wordcloud import WordCloud\n",
    "\n",
    "\n",
    "from sklearn.model_selection import train_test_split as split\n",
    "from sklearn.model_selection import GridSearchCV\n",
    "from sklearn import metrics\n",
    "from sklearn.metrics import classification_report, confusion_matrix, auc, roc_curve\n",
    "\n",
    "from sklearn.preprocessing import StandardScaler, MinMaxScaler\n",
    "from sklearn.decomposition import PCA\n",
    "\n",
    "from sklearn.tree import DecisionTreeClassifier\n",
    "from sklearn.ensemble import RandomForestClassifier, BaggingClassifier, AdaBoostClassifier, GradientBoostingClassifier\n",
    "from sklearn.neighbors import KNeighborsClassifier\n",
    "from sklearn.naive_bayes import MultinomialNB\n",
    "from sklearn.svm import SVC\n",
    "from sklearn.linear_model import LogisticRegression\n",
    "from xgboost import XGBClassifier\n",
    "import lightgbm as lgb\n",
    "\n",
    "import nltk\n",
    "from nltk.corpus import stopwords\n",
    "from nltk.tokenize import sent_tokenize, word_tokenize, RegexpTokenizer \n",
    "from nltk.stem import PorterStemmer, LancasterStemmer\n",
    "from sklearn.feature_extraction.text import CountVectorizer\n",
    "from sklearn.feature_extraction.text import TfidfTransformer\n",
    "\n",
    "from textblob import TextBlob\n",
    "import warnings\n",
    "warnings.filterwarnings('ignore') \n",
    "\n",
    "from IPython.display import Image\n",
    "\n",
    "%matplotlib inline\n",
    "\n"
   ]
  },
  {
   "cell_type": "code",
   "execution_count": 2,
   "metadata": {},
   "outputs": [
    {
     "name": "stdout",
     "output_type": "stream",
     "text": [
      "(23486, 10)\n"
     ]
    },
    {
     "data": {
      "text/html": [
       "<div>\n",
       "<style scoped>\n",
       "    .dataframe tbody tr th:only-of-type {\n",
       "        vertical-align: middle;\n",
       "    }\n",
       "\n",
       "    .dataframe tbody tr th {\n",
       "        vertical-align: top;\n",
       "    }\n",
       "\n",
       "    .dataframe thead th {\n",
       "        text-align: right;\n",
       "    }\n",
       "</style>\n",
       "<table border=\"1\" class=\"dataframe\">\n",
       "  <thead>\n",
       "    <tr style=\"text-align: right;\">\n",
       "      <th></th>\n",
       "      <th>Clothing ID</th>\n",
       "      <th>Age</th>\n",
       "      <th>Title</th>\n",
       "      <th>Review Text</th>\n",
       "      <th>Rating</th>\n",
       "      <th>Recommended IND</th>\n",
       "      <th>Positive Feedback Count</th>\n",
       "      <th>Division Name</th>\n",
       "      <th>Department Name</th>\n",
       "      <th>Class Name</th>\n",
       "    </tr>\n",
       "  </thead>\n",
       "  <tbody>\n",
       "    <tr>\n",
       "      <td>0</td>\n",
       "      <td>767</td>\n",
       "      <td>33</td>\n",
       "      <td>NaN</td>\n",
       "      <td>Absolutely wonderful - silky and sexy and comf...</td>\n",
       "      <td>4</td>\n",
       "      <td>1</td>\n",
       "      <td>0</td>\n",
       "      <td>Initmates</td>\n",
       "      <td>Intimate</td>\n",
       "      <td>Intimates</td>\n",
       "    </tr>\n",
       "    <tr>\n",
       "      <td>1</td>\n",
       "      <td>1080</td>\n",
       "      <td>34</td>\n",
       "      <td>NaN</td>\n",
       "      <td>Love this dress!  it's sooo pretty.  i happene...</td>\n",
       "      <td>5</td>\n",
       "      <td>1</td>\n",
       "      <td>4</td>\n",
       "      <td>General</td>\n",
       "      <td>Dresses</td>\n",
       "      <td>Dresses</td>\n",
       "    </tr>\n",
       "    <tr>\n",
       "      <td>2</td>\n",
       "      <td>1077</td>\n",
       "      <td>60</td>\n",
       "      <td>Some major design flaws</td>\n",
       "      <td>I had such high hopes for this dress and reall...</td>\n",
       "      <td>3</td>\n",
       "      <td>0</td>\n",
       "      <td>0</td>\n",
       "      <td>General</td>\n",
       "      <td>Dresses</td>\n",
       "      <td>Dresses</td>\n",
       "    </tr>\n",
       "    <tr>\n",
       "      <td>3</td>\n",
       "      <td>1049</td>\n",
       "      <td>50</td>\n",
       "      <td>My favorite buy!</td>\n",
       "      <td>I love, love, love this jumpsuit. it's fun, fl...</td>\n",
       "      <td>5</td>\n",
       "      <td>1</td>\n",
       "      <td>0</td>\n",
       "      <td>General Petite</td>\n",
       "      <td>Bottoms</td>\n",
       "      <td>Pants</td>\n",
       "    </tr>\n",
       "    <tr>\n",
       "      <td>4</td>\n",
       "      <td>847</td>\n",
       "      <td>47</td>\n",
       "      <td>Flattering shirt</td>\n",
       "      <td>This shirt is very flattering to all due to th...</td>\n",
       "      <td>5</td>\n",
       "      <td>1</td>\n",
       "      <td>6</td>\n",
       "      <td>General</td>\n",
       "      <td>Tops</td>\n",
       "      <td>Blouses</td>\n",
       "    </tr>\n",
       "  </tbody>\n",
       "</table>\n",
       "</div>"
      ],
      "text/plain": [
       "   Clothing ID  Age                    Title  \\\n",
       "0          767   33                      NaN   \n",
       "1         1080   34                      NaN   \n",
       "2         1077   60  Some major design flaws   \n",
       "3         1049   50         My favorite buy!   \n",
       "4          847   47         Flattering shirt   \n",
       "\n",
       "                                         Review Text  Rating  Recommended IND  \\\n",
       "0  Absolutely wonderful - silky and sexy and comf...       4                1   \n",
       "1  Love this dress!  it's sooo pretty.  i happene...       5                1   \n",
       "2  I had such high hopes for this dress and reall...       3                0   \n",
       "3  I love, love, love this jumpsuit. it's fun, fl...       5                1   \n",
       "4  This shirt is very flattering to all due to th...       5                1   \n",
       "\n",
       "   Positive Feedback Count   Division Name Department Name Class Name  \n",
       "0                        0       Initmates        Intimate  Intimates  \n",
       "1                        4         General         Dresses    Dresses  \n",
       "2                        0         General         Dresses    Dresses  \n",
       "3                        0  General Petite         Bottoms      Pants  \n",
       "4                        6         General            Tops    Blouses  "
      ]
     },
     "execution_count": 2,
     "metadata": {},
     "output_type": "execute_result"
    }
   ],
   "source": [
    "# Importing Dataframe\n",
    "url = \"https://raw.githubusercontent.com/ashlesha10/Women-s-E-Commerce-Clothing-Reviews/master/Data/Womens%20Clothing%20E-Commerce%20Reviews.csv\" # Make sure the url is the raw version of the file on GitHub\n",
    "df=pd.read_csv(url,index_col=0)\n",
    "print(df.shape)\n",
    "df.head()"
   ]
  },
  {
   "cell_type": "markdown",
   "metadata": {},
   "source": [
    "### Data Cleaning, EDA and Visualization"
   ]
  },
  {
   "cell_type": "code",
   "execution_count": 3,
   "metadata": {},
   "outputs": [
    {
     "data": {
      "text/plain": [
       "Clothing ID                   0\n",
       "Age                           0\n",
       "Title                      3810\n",
       "Review Text                 845\n",
       "Rating                        0\n",
       "Recommended IND               0\n",
       "Positive Feedback Count       0\n",
       "Division Name                14\n",
       "Department Name              14\n",
       "Class Name                   14\n",
       "dtype: int64"
      ]
     },
     "execution_count": 3,
     "metadata": {},
     "output_type": "execute_result"
    }
   ],
   "source": [
    "#Checking for null values in the entire data\n",
    "df.isnull().sum()"
   ]
  },
  {
   "cell_type": "code",
   "execution_count": 4,
   "metadata": {},
   "outputs": [
    {
     "name": "stdout",
     "output_type": "stream",
     "text": [
      "2\n",
      "(19662, 10)\n"
     ]
    },
    {
     "data": {
      "text/html": [
       "<div>\n",
       "<style scoped>\n",
       "    .dataframe tbody tr th:only-of-type {\n",
       "        vertical-align: middle;\n",
       "    }\n",
       "\n",
       "    .dataframe tbody tr th {\n",
       "        vertical-align: top;\n",
       "    }\n",
       "\n",
       "    .dataframe thead th {\n",
       "        text-align: right;\n",
       "    }\n",
       "</style>\n",
       "<table border=\"1\" class=\"dataframe\">\n",
       "  <thead>\n",
       "    <tr style=\"text-align: right;\">\n",
       "      <th></th>\n",
       "      <th>Clothing ID</th>\n",
       "      <th>Age</th>\n",
       "      <th>Title</th>\n",
       "      <th>Review Text</th>\n",
       "      <th>Rating</th>\n",
       "      <th>Recommended IND</th>\n",
       "      <th>Positive Feedback Count</th>\n",
       "      <th>Division Name</th>\n",
       "      <th>Department Name</th>\n",
       "      <th>Class Name</th>\n",
       "    </tr>\n",
       "  </thead>\n",
       "  <tbody>\n",
       "    <tr>\n",
       "      <td>2</td>\n",
       "      <td>1077</td>\n",
       "      <td>60</td>\n",
       "      <td>Some major design flaws</td>\n",
       "      <td>I had such high hopes for this dress and reall...</td>\n",
       "      <td>3</td>\n",
       "      <td>0</td>\n",
       "      <td>0</td>\n",
       "      <td>General</td>\n",
       "      <td>Dresses</td>\n",
       "      <td>Dresses</td>\n",
       "    </tr>\n",
       "    <tr>\n",
       "      <td>3</td>\n",
       "      <td>1049</td>\n",
       "      <td>50</td>\n",
       "      <td>My favorite buy!</td>\n",
       "      <td>I love, love, love this jumpsuit. it's fun, fl...</td>\n",
       "      <td>5</td>\n",
       "      <td>1</td>\n",
       "      <td>0</td>\n",
       "      <td>General Petite</td>\n",
       "      <td>Bottoms</td>\n",
       "      <td>Pants</td>\n",
       "    </tr>\n",
       "    <tr>\n",
       "      <td>4</td>\n",
       "      <td>847</td>\n",
       "      <td>47</td>\n",
       "      <td>Flattering shirt</td>\n",
       "      <td>This shirt is very flattering to all due to th...</td>\n",
       "      <td>5</td>\n",
       "      <td>1</td>\n",
       "      <td>6</td>\n",
       "      <td>General</td>\n",
       "      <td>Tops</td>\n",
       "      <td>Blouses</td>\n",
       "    </tr>\n",
       "    <tr>\n",
       "      <td>5</td>\n",
       "      <td>1080</td>\n",
       "      <td>49</td>\n",
       "      <td>Not for the very petite</td>\n",
       "      <td>I love tracy reese dresses, but this one is no...</td>\n",
       "      <td>2</td>\n",
       "      <td>0</td>\n",
       "      <td>4</td>\n",
       "      <td>General</td>\n",
       "      <td>Dresses</td>\n",
       "      <td>Dresses</td>\n",
       "    </tr>\n",
       "    <tr>\n",
       "      <td>6</td>\n",
       "      <td>858</td>\n",
       "      <td>39</td>\n",
       "      <td>Cagrcoal shimmer fun</td>\n",
       "      <td>I aded this in my basket at hte last mintue to...</td>\n",
       "      <td>5</td>\n",
       "      <td>1</td>\n",
       "      <td>1</td>\n",
       "      <td>General Petite</td>\n",
       "      <td>Tops</td>\n",
       "      <td>Knits</td>\n",
       "    </tr>\n",
       "  </tbody>\n",
       "</table>\n",
       "</div>"
      ],
      "text/plain": [
       "   Clothing ID  Age                    Title  \\\n",
       "2         1077   60  Some major design flaws   \n",
       "3         1049   50         My favorite buy!   \n",
       "4          847   47         Flattering shirt   \n",
       "5         1080   49  Not for the very petite   \n",
       "6          858   39     Cagrcoal shimmer fun   \n",
       "\n",
       "                                         Review Text  Rating  Recommended IND  \\\n",
       "2  I had such high hopes for this dress and reall...       3                0   \n",
       "3  I love, love, love this jumpsuit. it's fun, fl...       5                1   \n",
       "4  This shirt is very flattering to all due to th...       5                1   \n",
       "5  I love tracy reese dresses, but this one is no...       2                0   \n",
       "6  I aded this in my basket at hte last mintue to...       5                1   \n",
       "\n",
       "   Positive Feedback Count   Division Name Department Name Class Name  \n",
       "2                        0         General         Dresses    Dresses  \n",
       "3                        0  General Petite         Bottoms      Pants  \n",
       "4                        6         General            Tops    Blouses  \n",
       "5                        4         General         Dresses    Dresses  \n",
       "6                        1  General Petite            Tops      Knits  "
      ]
     },
     "execution_count": 4,
     "metadata": {},
     "output_type": "execute_result"
    }
   ],
   "source": [
    "#Removing the nul values and storing the dataframe into new dataframe named new_data.\n",
    "df1=df.dropna(axis=0, how='any')\n",
    "print(df1.ndim)\n",
    "print(df1.shape)\n",
    "df1.head()"
   ]
  },
  {
   "cell_type": "code",
   "execution_count": 5,
   "metadata": {},
   "outputs": [
    {
     "data": {
      "image/png": "[encoded data removed]",
      "text/plain": [
       "<Figure size 432x288 with 1 Axes>"
      ]
     },
     "metadata": {
      "needs_background": "light"
     },
     "output_type": "display_data"
    }
   ],
   "source": [
    "#Bar plot to check the count of recommended v/s not recommended\n",
    "df2 = df1\n",
    "df2['Recommended IND'].value_counts()[:].plot(kind='bar', color='orange')\n",
    "df2['Recommended IND'].value_counts()\n",
    "plt.title(\"Recommended Index Plot\",loc ='left')\n",
    "plt.xlabel('Recommended Ind (yes - 1, No - 0 )')\n",
    "plt.ylabel('count')\n",
    "plt.show()\n"
   ]
  },
  {
   "cell_type": "code",
   "execution_count": 6,
   "metadata": {},
   "outputs": [
    {
     "data": {
      "image/png": "[encoded data removed]",
      "text/plain": [
       "<Figure size 432x288 with 1 Axes>"
      ]
     },
     "metadata": {
      "needs_background": "light"
     },
     "output_type": "display_data"
    }
   ],
   "source": [
    "sns.countplot(x='Rating', hue='Recommended IND',data=df1)\n",
    "sns.set(rc={'figure.figsize':(10,20)})"
   ]
  },
  {
   "cell_type": "code",
   "execution_count": 7,
   "metadata": {},
   "outputs": [
    {
     "data": {
      "image/png": "[encoded data removed]",
      "text/plain": [
       "<Figure size 720x1440 with 1 Axes>"
      ]
     },
     "metadata": {},
     "output_type": "display_data"
    }
   ],
   "source": [
    "#subsetting the dataframe to plot which department is contributing to most recommendations\n",
    "df2 = df2.rename(columns={\"Recommended IND\": \"Recommended\"})\n",
    "df3 = df2[df2.Recommended == 1]\n",
    "df3\n",
    "df3['Department Name'].value_counts()[:].plot(kind='bar', color='purple')\n",
    "df3['Department Name'].value_counts()\n",
    "plt.title(\"Department Wise Recommended 'Yes'\")\n",
    "plt.xlabel('Departments')\n",
    "plt.ylabel('count')\n",
    "plt.show()"
   ]
  },
  {
   "cell_type": "code",
   "execution_count": 8,
   "metadata": {},
   "outputs": [
    {
     "data": {
      "image/png": "[encoded data removed]",
      "text/plain": [
       "<Figure size 720x1440 with 1 Axes>"
      ]
     },
     "metadata": {},
     "output_type": "display_data"
    }
   ],
   "source": [
    "ax=sns.countplot(x=\"Class Name\",hue='Rating',data=df1)\n",
    "ax.set_xticklabels(ax.get_xticklabels(), rotation=40, ha=\"right\")\n",
    "plt.tight_layout()\n",
    "plt.legend(loc='upper right')\n",
    "sns.set(rc={'figure.figsize':(10,10)})"
   ]
  },
  {
   "cell_type": "code",
   "execution_count": 9,
   "metadata": {},
   "outputs": [
    {
     "data": {
      "text/html": [
       "<div>\n",
       "<style scoped>\n",
       "    .dataframe tbody tr th:only-of-type {\n",
       "        vertical-align: middle;\n",
       "    }\n",
       "\n",
       "    .dataframe tbody tr th {\n",
       "        vertical-align: top;\n",
       "    }\n",
       "\n",
       "    .dataframe thead th {\n",
       "        text-align: right;\n",
       "    }\n",
       "</style>\n",
       "<table border=\"1\" class=\"dataframe\">\n",
       "  <thead>\n",
       "    <tr style=\"text-align: right;\">\n",
       "      <th></th>\n",
       "      <th>Clothing ID</th>\n",
       "      <th>Age</th>\n",
       "      <th>Title</th>\n",
       "      <th>Review Text</th>\n",
       "      <th>Rating</th>\n",
       "      <th>Recommended</th>\n",
       "      <th>Positive Feedback Count</th>\n",
       "      <th>Division Name</th>\n",
       "      <th>Department Name</th>\n",
       "      <th>Class Name</th>\n",
       "      <th>agerange</th>\n",
       "    </tr>\n",
       "  </thead>\n",
       "  <tbody>\n",
       "    <tr>\n",
       "      <td>2</td>\n",
       "      <td>1077</td>\n",
       "      <td>60</td>\n",
       "      <td>Some major design flaws</td>\n",
       "      <td>I had such high hopes for this dress and reall...</td>\n",
       "      <td>3</td>\n",
       "      <td>0</td>\n",
       "      <td>0</td>\n",
       "      <td>General</td>\n",
       "      <td>Dresses</td>\n",
       "      <td>Dresses</td>\n",
       "      <td>51-60</td>\n",
       "    </tr>\n",
       "    <tr>\n",
       "      <td>3</td>\n",
       "      <td>1049</td>\n",
       "      <td>50</td>\n",
       "      <td>My favorite buy!</td>\n",
       "      <td>I love, love, love this jumpsuit. it's fun, fl...</td>\n",
       "      <td>5</td>\n",
       "      <td>1</td>\n",
       "      <td>0</td>\n",
       "      <td>General Petite</td>\n",
       "      <td>Bottoms</td>\n",
       "      <td>Pants</td>\n",
       "      <td>41-50</td>\n",
       "    </tr>\n",
       "    <tr>\n",
       "      <td>4</td>\n",
       "      <td>847</td>\n",
       "      <td>47</td>\n",
       "      <td>Flattering shirt</td>\n",
       "      <td>This shirt is very flattering to all due to th...</td>\n",
       "      <td>5</td>\n",
       "      <td>1</td>\n",
       "      <td>6</td>\n",
       "      <td>General</td>\n",
       "      <td>Tops</td>\n",
       "      <td>Blouses</td>\n",
       "      <td>41-50</td>\n",
       "    </tr>\n",
       "    <tr>\n",
       "      <td>5</td>\n",
       "      <td>1080</td>\n",
       "      <td>49</td>\n",
       "      <td>Not for the very petite</td>\n",
       "      <td>I love tracy reese dresses, but this one is no...</td>\n",
       "      <td>2</td>\n",
       "      <td>0</td>\n",
       "      <td>4</td>\n",
       "      <td>General</td>\n",
       "      <td>Dresses</td>\n",
       "      <td>Dresses</td>\n",
       "      <td>41-50</td>\n",
       "    </tr>\n",
       "    <tr>\n",
       "      <td>6</td>\n",
       "      <td>858</td>\n",
       "      <td>39</td>\n",
       "      <td>Cagrcoal shimmer fun</td>\n",
       "      <td>I aded this in my basket at hte last mintue to...</td>\n",
       "      <td>5</td>\n",
       "      <td>1</td>\n",
       "      <td>1</td>\n",
       "      <td>General Petite</td>\n",
       "      <td>Tops</td>\n",
       "      <td>Knits</td>\n",
       "      <td>31-40</td>\n",
       "    </tr>\n",
       "  </tbody>\n",
       "</table>\n",
       "</div>"
      ],
      "text/plain": [
       "   Clothing ID  Age                    Title  \\\n",
       "2         1077   60  Some major design flaws   \n",
       "3         1049   50         My favorite buy!   \n",
       "4          847   47         Flattering shirt   \n",
       "5         1080   49  Not for the very petite   \n",
       "6          858   39     Cagrcoal shimmer fun   \n",
       "\n",
       "                                         Review Text  Rating  Recommended  \\\n",
       "2  I had such high hopes for this dress and reall...       3            0   \n",
       "3  I love, love, love this jumpsuit. it's fun, fl...       5            1   \n",
       "4  This shirt is very flattering to all due to th...       5            1   \n",
       "5  I love tracy reese dresses, but this one is no...       2            0   \n",
       "6  I aded this in my basket at hte last mintue to...       5            1   \n",
       "\n",
       "   Positive Feedback Count   Division Name Department Name Class Name agerange  \n",
       "2                        0         General         Dresses    Dresses    51-60  \n",
       "3                        0  General Petite         Bottoms      Pants    41-50  \n",
       "4                        6         General            Tops    Blouses    41-50  \n",
       "5                        4         General         Dresses    Dresses    41-50  \n",
       "6                        1  General Petite            Tops      Knits    31-40  "
      ]
     },
     "execution_count": 9,
     "metadata": {},
     "output_type": "execute_result"
    }
   ],
   "source": [
    "bins = [0,20,30, 40, 50, 60, 70, 80,90,100]\n",
    "labels = ['0-20','21-30', '31-40', '41-50', '51-60', '61-70', '71-80','81-90','91-100']\n",
    "df2['agerange'] = pd.cut(df2.Age, bins, labels = labels,include_lowest = True)\n",
    "df2.head()"
   ]
  },
  {
   "cell_type": "code",
   "execution_count": 10,
   "metadata": {},
   "outputs": [
    {
     "data": {
      "image/png": "[encoded data removed]",
      "text/plain": [
       "<Figure size 720x720 with 1 Axes>"
      ]
     },
     "metadata": {},
     "output_type": "display_data"
    }
   ],
   "source": [
    "sns.distplot(df1['Age'])\n",
    "sns.set(rc={'figure.figsize':(10,10)})"
   ]
  },
  {
   "cell_type": "code",
   "execution_count": 11,
   "metadata": {},
   "outputs": [
    {
     "data": {
      "image/png": "[encoded data removed]",
      "text/plain": [
       "<Figure size 792x360 with 1 Axes>"
      ]
     },
     "metadata": {},
     "output_type": "display_data"
    }
   ],
   "source": [
    "sns.set(rc={'figure.figsize':(11,5)})\n",
    "sns.countplot(df2['agerange'])\n",
    "plt.xlabel('agerange')\n",
    "plt.ylabel('Reviews')\n",
    "plt.title('Number of reviews per Age Range');"
   ]
  },
  {
   "cell_type": "code",
   "execution_count": 12,
   "metadata": {},
   "outputs": [
    {
     "data": {
      "image/png": "[encoded data removed]",
      "text/plain": [
       "<Figure size 864x288 with 3 Axes>"
      ]
     },
     "metadata": {},
     "output_type": "display_data"
    }
   ],
   "source": [
    "# Continous Distributions\n",
    "f, ax = plt.subplots(1,3,figsize=(12,4), sharey=False)\n",
    "sns.distplot(df1.Age, ax=ax[0])\n",
    "ax[0].set_title(\"Age Distribution\")\n",
    "ax[0].set_ylabel(\"Density\")\n",
    "sns.distplot(df1[\"Positive Feedback Count\"], ax=ax[1])\n",
    "ax[1].set_title(\"Positive Feedback Count Distribution\")\n",
    "sns.distplot(np.log10((df1[\"Positive Feedback Count\"][df1[\"Positive Feedback Count\"].notnull()]+1)), ax=ax[2])\n",
    "ax[2].set_title(\"Positive Feedback Count Distribution\\n[Log 10]\")\n",
    "ax[2].set_xlabel(\"Log Positive Feedback Count\")\n",
    "plt.tight_layout()\n",
    "plt.show()\n"
   ]
  },
  {
   "cell_type": "code",
   "execution_count": 13,
   "metadata": {},
   "outputs": [
    {
     "data": {
      "image/png": "[encoded data removed]",
      "text/plain": [
       "<Figure size 792x360 with 1 Axes>"
      ]
     },
     "metadata": {},
     "output_type": "display_data"
    },
    {
     "name": "stdout",
     "output_type": "stream",
     "text": [
      "78.0% of Positive Feedback belongs to the top 20% of Reviews\n",
      "\n",
      "Gini Coefficient: 0.76\n"
     ]
    }
   ],
   "source": [
    "# Percentage Accumulation from \"Most Wealthy\"\n",
    "def percentage_accumulation(series, percentage):\n",
    "    return (series.sort_values(ascending=False)\n",
    "            [:round(series.shape[0]*(percentage/100))]\n",
    "     .sum()/series\n",
    "     .sum()*100)\n",
    "\n",
    "# Gini Coefficient- Inequality Score\n",
    "def gini(list_of_values):\n",
    "    sorted_list = sorted(list_of_values)\n",
    "    height, area = 0, 0\n",
    "    for value in sorted_list:\n",
    "        height += value\n",
    "        area += height - value / 2.\n",
    "    fair_area = height * len(list_of_values) / 2.\n",
    "    return (fair_area - area) / fair_area\n",
    "\n",
    "# Cumulative Percentage of Positive Feedback assigned Percent of Reviewers (from most wealthy)\n",
    "inequality = []\n",
    "for x in list(range(100)):\n",
    "    inequality.append(percentage_accumulation(df[\"Positive Feedback Count\"], x))\n",
    "\n",
    "# Generic Matplotlib Plot\n",
    "plt.plot(inequality)\n",
    "plt.title(\"Percentage of Positive Feedback by Percentage of Reviews\")\n",
    "plt.xlabel(\"Review Percentile starting with Feedback\")\n",
    "plt.ylabel(\"Percent of Positive Feedback Received\")\n",
    "plt.axvline(x=20, c = \"r\")\n",
    "plt.axvline(x=53, c = \"g\")\n",
    "plt.axhline(y=78, c = \"y\")\n",
    "plt.axhline(y=100, c = \"b\", alpha=.3)\n",
    "plt.show()\n",
    "\n",
    "# 80-20 Rule Confirmation\n",
    "print(\"{}% of Positive Feedback belongs to the top 20% of Reviews\".format(\n",
    "    round(percentage_accumulation(df1[\"Positive Feedback Count\"], 20))))\n",
    "\n",
    "# Gini\n",
    "print(\"\\nGini Coefficient: {}\".format(round(gini(df1[\"Positive Feedback Count\"]),2)))"
   ]
  },
  {
   "cell_type": "code",
   "execution_count": 14,
   "metadata": {},
   "outputs": [
    {
     "data": {
      "image/png": "[encoded data removed]",
      "text/plain": [
       "<Figure size 1008x288 with 2 Axes>"
      ]
     },
     "metadata": {},
     "output_type": "display_data"
    }
   ],
   "source": [
    "\n",
    "row_plots = [\"Division Name\",\"Department Name\"]\n",
    "f, axes = plt.subplots(1,len(row_plots), figsize=(14,4), sharex=False)\n",
    "\n",
    "for i,x in enumerate(row_plots):\n",
    "    sns.countplot(y=x, data=df1,order=df1[x].value_counts().index, ax=axes[i])\n",
    "    axes[i].set_title(\"Count of Categories in {}\".format(x))\n",
    "    axes[i].set_xlabel(\"\")\n",
    "    axes[i].set_xlabel(\"Frequency Count\")\n",
    "axes[0].set_ylabel(\"Category\")\n",
    "axes[1].set_ylabel(\"\")\n",
    "plt.show()"
   ]
  },
  {
   "cell_type": "code",
   "execution_count": 15,
   "metadata": {},
   "outputs": [
    {
     "data": {
      "image/png": "[encoded data removed]",
      "text/plain": [
       "<Figure size 1008x504 with 2 Axes>"
      ]
     },
     "metadata": {},
     "output_type": "display_data"
    },
    {
     "name": "stdout",
     "output_type": "stream",
     "text": [
      "Dataframe Dimension: 19662 Rows\n"
     ]
    },
    {
     "data": {
      "text/html": [
       "<div>\n",
       "<style scoped>\n",
       "    .dataframe tbody tr th:only-of-type {\n",
       "        vertical-align: middle;\n",
       "    }\n",
       "\n",
       "    .dataframe tbody tr th {\n",
       "        vertical-align: top;\n",
       "    }\n",
       "\n",
       "    .dataframe thead th {\n",
       "        text-align: right;\n",
       "    }\n",
       "</style>\n",
       "<table border=\"1\" class=\"dataframe\">\n",
       "  <thead>\n",
       "    <tr style=\"text-align: right;\">\n",
       "      <th></th>\n",
       "      <th>mean</th>\n",
       "      <th>std</th>\n",
       "      <th>min</th>\n",
       "      <th>25%</th>\n",
       "      <th>50%</th>\n",
       "      <th>75%</th>\n",
       "      <th>max</th>\n",
       "    </tr>\n",
       "  </thead>\n",
       "  <tbody>\n",
       "    <tr>\n",
       "      <td>Clothing ID</td>\n",
       "      <td>1017.581651</td>\n",
       "      <td>102.534388</td>\n",
       "      <td>862.0</td>\n",
       "      <td>862.0</td>\n",
       "      <td>1078.0</td>\n",
       "      <td>1094.00</td>\n",
       "      <td>1094.0</td>\n",
       "    </tr>\n",
       "    <tr>\n",
       "      <td>Age</td>\n",
       "      <td>42.622477</td>\n",
       "      <td>12.047944</td>\n",
       "      <td>18.0</td>\n",
       "      <td>34.0</td>\n",
       "      <td>41.0</td>\n",
       "      <td>50.25</td>\n",
       "      <td>99.0</td>\n",
       "    </tr>\n",
       "    <tr>\n",
       "      <td>Rating</td>\n",
       "      <td>4.181193</td>\n",
       "      <td>1.100592</td>\n",
       "      <td>1.0</td>\n",
       "      <td>4.0</td>\n",
       "      <td>5.0</td>\n",
       "      <td>5.00</td>\n",
       "      <td>5.0</td>\n",
       "    </tr>\n",
       "    <tr>\n",
       "      <td>Recommended IND</td>\n",
       "      <td>0.813761</td>\n",
       "      <td>0.389388</td>\n",
       "      <td>0.0</td>\n",
       "      <td>1.0</td>\n",
       "      <td>1.0</td>\n",
       "      <td>1.00</td>\n",
       "      <td>1.0</td>\n",
       "    </tr>\n",
       "    <tr>\n",
       "      <td>Positive Feedback Count</td>\n",
       "      <td>2.961927</td>\n",
       "      <td>6.967565</td>\n",
       "      <td>0.0</td>\n",
       "      <td>0.0</td>\n",
       "      <td>1.0</td>\n",
       "      <td>3.00</td>\n",
       "      <td>98.0</td>\n",
       "    </tr>\n",
       "  </tbody>\n",
       "</table>\n",
       "</div>"
      ],
      "text/plain": [
       "                                mean         std    min    25%     50%  \\\n",
       "Clothing ID              1017.581651  102.534388  862.0  862.0  1078.0   \n",
       "Age                        42.622477   12.047944   18.0   34.0    41.0   \n",
       "Rating                      4.181193    1.100592    1.0    4.0     5.0   \n",
       "Recommended IND             0.813761    0.389388    0.0    1.0     1.0   \n",
       "Positive Feedback Count     2.961927    6.967565    0.0    0.0     1.0   \n",
       "\n",
       "                             75%     max  \n",
       "Clothing ID              1094.00  1094.0  \n",
       "Age                        50.25    99.0  \n",
       "Rating                      5.00     5.0  \n",
       "Recommended IND             1.00     1.0  \n",
       "Positive Feedback Count     3.00    98.0  "
      ]
     },
     "execution_count": 15,
     "metadata": {},
     "output_type": "execute_result"
    }
   ],
   "source": [
    "# Clothing ID Category\n",
    "f, axes = plt.subplots(1,2, figsize=[14,7])\n",
    "num = 30\n",
    "sns.countplot(y=\"Clothing ID\", data = df1[df1[\"Clothing ID\"].isin(df1[\"Clothing ID\"].value_counts()[:num].index)],\n",
    "              order= df1[\"Clothing ID\"].value_counts()[:num].index, ax=axes[0])\n",
    "axes[0].set_title(\"Frequency Count of Clothing ID\\nTop 30\")\n",
    "axes[0].set_xlabel(\"Count\")\n",
    "\n",
    "sns.countplot(y=\"Clothing ID\", data = df1[df[\"Clothing ID\"].isin(df1[\"Clothing ID\"].value_counts()[num:60].index)],\n",
    "              order= df1[\"Clothing ID\"].value_counts()[num:60].index, ax=axes[1])\n",
    "axes[1].set_title(\"Frequency Count of Clothing ID\\nTop 30 to 60\")\n",
    "axes[1].set_ylabel(\"\")\n",
    "axes[1].set_xlabel(\"Count\")\n",
    "plt.show()\n",
    "\n",
    "print(\"Dataframe Dimension: {} Rows\".format(df1.shape[0]))\n",
    "df1[df1[\"Clothing ID\"].isin([1078, 862,1094])].describe().T.drop(\"count\",axis=1)"
   ]
  },
  {
   "cell_type": "code",
   "execution_count": 16,
   "metadata": {},
   "outputs": [
    {
     "data": {
      "text/html": [
       "<div>\n",
       "<style scoped>\n",
       "    .dataframe tbody tr th:only-of-type {\n",
       "        vertical-align: middle;\n",
       "    }\n",
       "\n",
       "    .dataframe tbody tr th {\n",
       "        vertical-align: top;\n",
       "    }\n",
       "\n",
       "    .dataframe thead th {\n",
       "        text-align: right;\n",
       "    }\n",
       "</style>\n",
       "<table border=\"1\" class=\"dataframe\">\n",
       "  <thead>\n",
       "    <tr style=\"text-align: right;\">\n",
       "      <th></th>\n",
       "      <th>unique</th>\n",
       "      <th>top</th>\n",
       "      <th>freq</th>\n",
       "    </tr>\n",
       "  </thead>\n",
       "  <tbody>\n",
       "    <tr>\n",
       "      <td>Title</td>\n",
       "      <td>1815</td>\n",
       "      <td>Beautiful dress</td>\n",
       "      <td>21</td>\n",
       "    </tr>\n",
       "    <tr>\n",
       "      <td>Division Name</td>\n",
       "      <td>2</td>\n",
       "      <td>General</td>\n",
       "      <td>1572</td>\n",
       "    </tr>\n",
       "    <tr>\n",
       "      <td>Department Name</td>\n",
       "      <td>2</td>\n",
       "      <td>Dresses</td>\n",
       "      <td>1780</td>\n",
       "    </tr>\n",
       "    <tr>\n",
       "      <td>Class Name</td>\n",
       "      <td>2</td>\n",
       "      <td>Dresses</td>\n",
       "      <td>1780</td>\n",
       "    </tr>\n",
       "  </tbody>\n",
       "</table>\n",
       "</div>"
      ],
      "text/plain": [
       "                unique              top  freq\n",
       "Title             1815  Beautiful dress    21\n",
       "Division Name        2          General  1572\n",
       "Department Name      2          Dresses  1780\n",
       "Class Name           2          Dresses  1780"
      ]
     },
     "execution_count": 16,
     "metadata": {},
     "output_type": "execute_result"
    }
   ],
   "source": [
    "df.loc[df[\"Clothing ID\"].isin([1078, 862,1094]),\n",
    "       [\"Title\", \"Division Name\",\"Department Name\",\"Class Name\"]].describe(include=[\"O\"]).T.drop(\"count\",axis=1)"
   ]
  },
  {
   "cell_type": "code",
   "execution_count": 17,
   "metadata": {},
   "outputs": [
    {
     "data": {
      "image/png": "[encoded data removed]",
      "text/plain": [
       "<Figure size 648x360 with 1 Axes>"
      ]
     },
     "metadata": {},
     "output_type": "display_data"
    }
   ],
   "source": [
    "# Class Name\n",
    "plt.subplots(figsize=(9,5))\n",
    "sns.countplot(y=\"Class Name\", data=df1,order=df1[\"Class Name\"].value_counts().index)\n",
    "plt.title(\"Frequency Count of Class Name\")\n",
    "plt.xlabel(\"Count\")\n",
    "plt.show()"
   ]
  },
  {
   "cell_type": "markdown",
   "metadata": {},
   "source": [
    "### NLP"
   ]
  },
  {
   "cell_type": "code",
   "execution_count": 18,
   "metadata": {},
   "outputs": [
    {
     "data": {
      "text/plain": [
       "Rating  Recommended IND\n",
       "1       0                    684\n",
       "        1                      7\n",
       "2       0                   1280\n",
       "        1                     80\n",
       "3       0                   1444\n",
       "        1                   1020\n",
       "4       0                    146\n",
       "        1                   4143\n",
       "5       0                     21\n",
       "        1                  10837\n",
       "Name: Recommended IND, dtype: int64"
      ]
     },
     "execution_count": 18,
     "metadata": {},
     "output_type": "execute_result"
    }
   ],
   "source": [
    "df1.groupby(['Rating','Recommended IND'])['Recommended IND'].count()"
   ]
  },
  {
   "cell_type": "code",
   "execution_count": 19,
   "metadata": {},
   "outputs": [
    {
     "data": {
      "text/html": [
       "<div>\n",
       "<style scoped>\n",
       "    .dataframe tbody tr th:only-of-type {\n",
       "        vertical-align: middle;\n",
       "    }\n",
       "\n",
       "    .dataframe tbody tr th {\n",
       "        vertical-align: top;\n",
       "    }\n",
       "\n",
       "    .dataframe thead th {\n",
       "        text-align: right;\n",
       "    }\n",
       "</style>\n",
       "<table border=\"1\" class=\"dataframe\">\n",
       "  <thead>\n",
       "    <tr style=\"text-align: right;\">\n",
       "      <th></th>\n",
       "      <th>Title</th>\n",
       "      <th>Review Text</th>\n",
       "      <th>Recommended IND</th>\n",
       "    </tr>\n",
       "  </thead>\n",
       "  <tbody>\n",
       "    <tr>\n",
       "      <td>2</td>\n",
       "      <td>Some major design flaws</td>\n",
       "      <td>I had such high hopes for this dress and reall...</td>\n",
       "      <td>0</td>\n",
       "    </tr>\n",
       "    <tr>\n",
       "      <td>3</td>\n",
       "      <td>My favorite buy!</td>\n",
       "      <td>I love, love, love this jumpsuit. it's fun, fl...</td>\n",
       "      <td>1</td>\n",
       "    </tr>\n",
       "    <tr>\n",
       "      <td>4</td>\n",
       "      <td>Flattering shirt</td>\n",
       "      <td>This shirt is very flattering to all due to th...</td>\n",
       "      <td>1</td>\n",
       "    </tr>\n",
       "    <tr>\n",
       "      <td>5</td>\n",
       "      <td>Not for the very petite</td>\n",
       "      <td>I love tracy reese dresses, but this one is no...</td>\n",
       "      <td>0</td>\n",
       "    </tr>\n",
       "    <tr>\n",
       "      <td>6</td>\n",
       "      <td>Cagrcoal shimmer fun</td>\n",
       "      <td>I aded this in my basket at hte last mintue to...</td>\n",
       "      <td>1</td>\n",
       "    </tr>\n",
       "  </tbody>\n",
       "</table>\n",
       "</div>"
      ],
      "text/plain": [
       "                     Title                                        Review Text  \\\n",
       "2  Some major design flaws  I had such high hopes for this dress and reall...   \n",
       "3         My favorite buy!  I love, love, love this jumpsuit. it's fun, fl...   \n",
       "4         Flattering shirt  This shirt is very flattering to all due to th...   \n",
       "5  Not for the very petite  I love tracy reese dresses, but this one is no...   \n",
       "6     Cagrcoal shimmer fun  I aded this in my basket at hte last mintue to...   \n",
       "\n",
       "   Recommended IND  \n",
       "2                0  \n",
       "3                1  \n",
       "4                1  \n",
       "5                0  \n",
       "6                1  "
      ]
     },
     "execution_count": 19,
     "metadata": {},
     "output_type": "execute_result"
    }
   ],
   "source": [
    "new_df = df1[['Title', 'Review Text', 'Recommended IND']]\n",
    "new_df.head()"
   ]
  },
  {
   "cell_type": "code",
   "execution_count": 20,
   "metadata": {},
   "outputs": [
    {
     "data": {
      "text/html": [
       "<div>\n",
       "<style scoped>\n",
       "    .dataframe tbody tr th:only-of-type {\n",
       "        vertical-align: middle;\n",
       "    }\n",
       "\n",
       "    .dataframe tbody tr th {\n",
       "        vertical-align: top;\n",
       "    }\n",
       "\n",
       "    .dataframe thead th {\n",
       "        text-align: right;\n",
       "    }\n",
       "</style>\n",
       "<table border=\"1\" class=\"dataframe\">\n",
       "  <thead>\n",
       "    <tr style=\"text-align: right;\">\n",
       "      <th></th>\n",
       "      <th>Recommended IND</th>\n",
       "      <th>Review</th>\n",
       "    </tr>\n",
       "  </thead>\n",
       "  <tbody>\n",
       "    <tr>\n",
       "      <td>2</td>\n",
       "      <td>0</td>\n",
       "      <td>Some major design flaws I had such high hopes ...</td>\n",
       "    </tr>\n",
       "    <tr>\n",
       "      <td>3</td>\n",
       "      <td>1</td>\n",
       "      <td>My favorite buy! I love, love, love this jumps...</td>\n",
       "    </tr>\n",
       "    <tr>\n",
       "      <td>4</td>\n",
       "      <td>1</td>\n",
       "      <td>Flattering shirt This shirt is very flattering...</td>\n",
       "    </tr>\n",
       "    <tr>\n",
       "      <td>5</td>\n",
       "      <td>0</td>\n",
       "      <td>Not for the very petite I love tracy reese dre...</td>\n",
       "    </tr>\n",
       "    <tr>\n",
       "      <td>6</td>\n",
       "      <td>1</td>\n",
       "      <td>Cagrcoal shimmer fun I aded this in my basket ...</td>\n",
       "    </tr>\n",
       "  </tbody>\n",
       "</table>\n",
       "</div>"
      ],
      "text/plain": [
       "   Recommended IND                                             Review\n",
       "2                0  Some major design flaws I had such high hopes ...\n",
       "3                1  My favorite buy! I love, love, love this jumps...\n",
       "4                1  Flattering shirt This shirt is very flattering...\n",
       "5                0  Not for the very petite I love tracy reese dre...\n",
       "6                1  Cagrcoal shimmer fun I aded this in my basket ..."
      ]
     },
     "execution_count": 20,
     "metadata": {},
     "output_type": "execute_result"
    }
   ],
   "source": [
    "#Combining Title and Review text and making a review variable\n",
    "new_df['Review'] = new_df['Title'] + ' ' + new_df['Review Text']\n",
    "new_df = new_df.drop(labels=['Title','Review Text'] , axis=1)\n",
    "new_df.head()"
   ]
  },
  {
   "cell_type": "code",
   "execution_count": 21,
   "metadata": {},
   "outputs": [
    {
     "name": "stdout",
     "output_type": "stream",
     "text": [
      "My data's shape is: (19662, 2)\n"
     ]
    },
    {
     "data": {
      "text/html": [
       "<div>\n",
       "<style scoped>\n",
       "    .dataframe tbody tr th:only-of-type {\n",
       "        vertical-align: middle;\n",
       "    }\n",
       "\n",
       "    .dataframe tbody tr th {\n",
       "        vertical-align: top;\n",
       "    }\n",
       "\n",
       "    .dataframe thead th {\n",
       "        text-align: right;\n",
       "    }\n",
       "</style>\n",
       "<table border=\"1\" class=\"dataframe\">\n",
       "  <thead>\n",
       "    <tr style=\"text-align: right;\">\n",
       "      <th></th>\n",
       "      <th>Recommended</th>\n",
       "      <th>Review</th>\n",
       "    </tr>\n",
       "  </thead>\n",
       "  <tbody>\n",
       "    <tr>\n",
       "      <td>2</td>\n",
       "      <td>0</td>\n",
       "      <td>Some major design flaws I had such high hopes ...</td>\n",
       "    </tr>\n",
       "    <tr>\n",
       "      <td>3</td>\n",
       "      <td>1</td>\n",
       "      <td>My favorite buy! I love, love, love this jumps...</td>\n",
       "    </tr>\n",
       "    <tr>\n",
       "      <td>4</td>\n",
       "      <td>1</td>\n",
       "      <td>Flattering shirt This shirt is very flattering...</td>\n",
       "    </tr>\n",
       "    <tr>\n",
       "      <td>5</td>\n",
       "      <td>0</td>\n",
       "      <td>Not for the very petite I love tracy reese dre...</td>\n",
       "    </tr>\n",
       "    <tr>\n",
       "      <td>6</td>\n",
       "      <td>1</td>\n",
       "      <td>Cagrcoal shimmer fun I aded this in my basket ...</td>\n",
       "    </tr>\n",
       "  </tbody>\n",
       "</table>\n",
       "</div>"
      ],
      "text/plain": [
       "   Recommended                                             Review\n",
       "2            0  Some major design flaws I had such high hopes ...\n",
       "3            1  My favorite buy! I love, love, love this jumps...\n",
       "4            1  Flattering shirt This shirt is very flattering...\n",
       "5            0  Not for the very petite I love tracy reese dre...\n",
       "6            1  Cagrcoal shimmer fun I aded this in my basket ..."
      ]
     },
     "execution_count": 21,
     "metadata": {},
     "output_type": "execute_result"
    }
   ],
   "source": [
    "#Renaming Recomended IND column\n",
    "new_df = new_df.rename(columns={\"Recommended IND\": \"Recommended\"})\n",
    "print(\"My data's shape is:\", new_df.shape)\n",
    "new_df.head()"
   ]
  },
  {
   "cell_type": "code",
   "execution_count": 22,
   "metadata": {},
   "outputs": [
    {
     "name": "stdout",
     "output_type": "stream",
     "text": [
      "(19662, 3)\n"
     ]
    },
    {
     "data": {
      "text/html": [
       "<div>\n",
       "<style scoped>\n",
       "    .dataframe tbody tr th:only-of-type {\n",
       "        vertical-align: middle;\n",
       "    }\n",
       "\n",
       "    .dataframe tbody tr th {\n",
       "        vertical-align: top;\n",
       "    }\n",
       "\n",
       "    .dataframe thead th {\n",
       "        text-align: right;\n",
       "    }\n",
       "</style>\n",
       "<table border=\"1\" class=\"dataframe\">\n",
       "  <thead>\n",
       "    <tr style=\"text-align: right;\">\n",
       "      <th></th>\n",
       "      <th>Recommended</th>\n",
       "      <th>Review</th>\n",
       "      <th>Review_length</th>\n",
       "    </tr>\n",
       "  </thead>\n",
       "  <tbody>\n",
       "    <tr>\n",
       "      <td>2</td>\n",
       "      <td>0</td>\n",
       "      <td>Some major design flaws I had such high hopes ...</td>\n",
       "      <td>524</td>\n",
       "    </tr>\n",
       "    <tr>\n",
       "      <td>3</td>\n",
       "      <td>1</td>\n",
       "      <td>My favorite buy! I love, love, love this jumps...</td>\n",
       "      <td>141</td>\n",
       "    </tr>\n",
       "    <tr>\n",
       "      <td>4</td>\n",
       "      <td>1</td>\n",
       "      <td>Flattering shirt This shirt is very flattering...</td>\n",
       "      <td>209</td>\n",
       "    </tr>\n",
       "    <tr>\n",
       "      <td>5</td>\n",
       "      <td>0</td>\n",
       "      <td>Not for the very petite I love tracy reese dre...</td>\n",
       "      <td>512</td>\n",
       "    </tr>\n",
       "    <tr>\n",
       "      <td>6</td>\n",
       "      <td>1</td>\n",
       "      <td>Cagrcoal shimmer fun I aded this in my basket ...</td>\n",
       "      <td>517</td>\n",
       "    </tr>\n",
       "  </tbody>\n",
       "</table>\n",
       "</div>"
      ],
      "text/plain": [
       "   Recommended                                             Review  \\\n",
       "2            0  Some major design flaws I had such high hopes ...   \n",
       "3            1  My favorite buy! I love, love, love this jumps...   \n",
       "4            1  Flattering shirt This shirt is very flattering...   \n",
       "5            0  Not for the very petite I love tracy reese dre...   \n",
       "6            1  Cagrcoal shimmer fun I aded this in my basket ...   \n",
       "\n",
       "   Review_length  \n",
       "2            524  \n",
       "3            141  \n",
       "4            209  \n",
       "5            512  \n",
       "6            517  "
      ]
     },
     "execution_count": 22,
     "metadata": {},
     "output_type": "execute_result"
    }
   ],
   "source": [
    "#adding a column Review Length to the dataframe\n",
    "new_df['Review_length'] = new_df['Review'].apply(len)\n",
    "print(new_df.shape)\n",
    "new_df.head()"
   ]
  },
  {
   "cell_type": "code",
   "execution_count": 23,
   "metadata": {},
   "outputs": [
    {
     "data": {
      "text/plain": [
       "count    19662.000000\n",
       "mean       338.389838\n",
       "std        144.610783\n",
       "min         23.000000\n",
       "25%        217.000000\n",
       "50%        335.500000\n",
       "75%        496.000000\n",
       "max        557.000000\n",
       "Name: Review_length, dtype: float64"
      ]
     },
     "execution_count": 23,
     "metadata": {},
     "output_type": "execute_result"
    }
   ],
   "source": [
    "new_df['Review_length'].describe()"
   ]
  },
  {
   "cell_type": "code",
   "execution_count": 24,
   "metadata": {
    "scrolled": true
   },
   "outputs": [
    {
     "data": {
      "image/png": "[encoded data removed]",
      "text/plain": [
       "<Figure size 792x360 with 1 Axes>"
      ]
     },
     "metadata": {},
     "output_type": "display_data"
    }
   ],
   "source": [
    "plt.hist(new_df['Review_length'], color = 'blue', edgecolor = 'black',\n",
    "         bins = int(180/5))\n",
    "plt.title(\"Distribution of Review Text\",loc ='left')\n",
    "plt.xlabel('Count of review length')\n",
    "plt.ylabel('count of Reviews')\n",
    "plt.show()"
   ]
  },
  {
   "cell_type": "code",
   "execution_count": 25,
   "metadata": {},
   "outputs": [],
   "source": [
    "def count_exclamation(strng):\n",
    "    count = 0\n",
    "    for char in strng:\n",
    "        if char == '!':\n",
    "            count += 1\n",
    "    return count"
   ]
  },
  {
   "cell_type": "code",
   "execution_count": 26,
   "metadata": {},
   "outputs": [
    {
     "data": {
      "text/html": [
       "<div>\n",
       "<style scoped>\n",
       "    .dataframe tbody tr th:only-of-type {\n",
       "        vertical-align: middle;\n",
       "    }\n",
       "\n",
       "    .dataframe tbody tr th {\n",
       "        vertical-align: top;\n",
       "    }\n",
       "\n",
       "    .dataframe thead th {\n",
       "        text-align: right;\n",
       "    }\n",
       "</style>\n",
       "<table border=\"1\" class=\"dataframe\">\n",
       "  <thead>\n",
       "    <tr style=\"text-align: right;\">\n",
       "      <th></th>\n",
       "      <th>Recommended</th>\n",
       "      <th>Review</th>\n",
       "      <th>Review_length</th>\n",
       "      <th>Exc_Count</th>\n",
       "    </tr>\n",
       "  </thead>\n",
       "  <tbody>\n",
       "    <tr>\n",
       "      <td>2</td>\n",
       "      <td>0</td>\n",
       "      <td>Some major design flaws I had such high hopes ...</td>\n",
       "      <td>524</td>\n",
       "      <td>1</td>\n",
       "    </tr>\n",
       "    <tr>\n",
       "      <td>3</td>\n",
       "      <td>1</td>\n",
       "      <td>My favorite buy! I love, love, love this jumps...</td>\n",
       "      <td>141</td>\n",
       "      <td>3</td>\n",
       "    </tr>\n",
       "    <tr>\n",
       "      <td>4</td>\n",
       "      <td>1</td>\n",
       "      <td>Flattering shirt This shirt is very flattering...</td>\n",
       "      <td>209</td>\n",
       "      <td>3</td>\n",
       "    </tr>\n",
       "    <tr>\n",
       "      <td>5</td>\n",
       "      <td>0</td>\n",
       "      <td>Not for the very petite I love tracy reese dre...</td>\n",
       "      <td>512</td>\n",
       "      <td>0</td>\n",
       "    </tr>\n",
       "    <tr>\n",
       "      <td>6</td>\n",
       "      <td>1</td>\n",
       "      <td>Cagrcoal shimmer fun I aded this in my basket ...</td>\n",
       "      <td>517</td>\n",
       "      <td>0</td>\n",
       "    </tr>\n",
       "  </tbody>\n",
       "</table>\n",
       "</div>"
      ],
      "text/plain": [
       "   Recommended                                             Review  \\\n",
       "2            0  Some major design flaws I had such high hopes ...   \n",
       "3            1  My favorite buy! I love, love, love this jumps...   \n",
       "4            1  Flattering shirt This shirt is very flattering...   \n",
       "5            0  Not for the very petite I love tracy reese dre...   \n",
       "6            1  Cagrcoal shimmer fun I aded this in my basket ...   \n",
       "\n",
       "   Review_length  Exc_Count  \n",
       "2            524          1  \n",
       "3            141          3  \n",
       "4            209          3  \n",
       "5            512          0  \n",
       "6            517          0  "
      ]
     },
     "execution_count": 26,
     "metadata": {},
     "output_type": "execute_result"
    }
   ],
   "source": [
    "new_df['Exc_Count'] = new_df['Review'].apply(count_exclamation)\n",
    "new_df.head(5)"
   ]
  },
  {
   "cell_type": "code",
   "execution_count": 27,
   "metadata": {},
   "outputs": [
    {
     "data": {
      "text/plain": [
       "count    19662.000000\n",
       "mean         0.882921\n",
       "std          1.412027\n",
       "min          0.000000\n",
       "25%          0.000000\n",
       "50%          0.000000\n",
       "75%          1.000000\n",
       "max         41.000000\n",
       "Name: Exc_Count, dtype: float64"
      ]
     },
     "execution_count": 27,
     "metadata": {},
     "output_type": "execute_result"
    }
   ],
   "source": [
    "new_df['Exc_Count'].describe()"
   ]
  },
  {
   "cell_type": "code",
   "execution_count": 28,
   "metadata": {
    "scrolled": true
   },
   "outputs": [
    {
     "data": {
      "image/png": "[encoded data removed]",
      "text/plain": [
       "<Figure size 792x360 with 1 Axes>"
      ]
     },
     "metadata": {},
     "output_type": "display_data"
    }
   ],
   "source": [
    "new_df['Exc_Count'].value_counts().sort_index().plot(kind='bar',color = \"g\")\n",
    "plt.title(\"Exclamation Count plot\",loc ='left')\n",
    "plt.xlabel('Count of Exclamations')\n",
    "plt.ylabel('Count of reviews')\n",
    "plt.show()"
   ]
  },
  {
   "cell_type": "code",
   "execution_count": 29,
   "metadata": {},
   "outputs": [
    {
     "data": {
      "text/plain": [
       "Int64Index([3301], dtype='int64')"
      ]
     },
     "execution_count": 29,
     "metadata": {},
     "output_type": "execute_result"
    }
   ],
   "source": [
    "new_df[new_df['Exc_Count']== 41].index"
   ]
  },
  {
   "cell_type": "code",
   "execution_count": 30,
   "metadata": {
    "scrolled": true
   },
   "outputs": [
    {
     "data": {
      "text/plain": [
       "'Beautiful and unique. Love this top, just received it today.\\nit is a very artistic interpretation for a casual top.\\nthe blue is gorgeous!\\nthe unique style of the peplm and the details on the front set this apart!\\nruns a little shorter, but i feel the length enhances it;s beauty, and is appropriate for the overall design.\\nlove !!!!!!!!!!!!!!!!!!!!!!!!!!!!!!!!!!!!!!!\\nordered my usual size and it fits perfectly.'"
      ]
     },
     "execution_count": 30,
     "metadata": {},
     "output_type": "execute_result"
    }
   ],
   "source": [
    "new_df['Review'][3301]"
   ]
  },
  {
   "cell_type": "code",
   "execution_count": 31,
   "metadata": {
    "scrolled": true
   },
   "outputs": [
    {
     "data": {
      "text/html": [
       "<div>\n",
       "<style scoped>\n",
       "    .dataframe tbody tr th:only-of-type {\n",
       "        vertical-align: middle;\n",
       "    }\n",
       "\n",
       "    .dataframe tbody tr th {\n",
       "        vertical-align: top;\n",
       "    }\n",
       "\n",
       "    .dataframe thead th {\n",
       "        text-align: right;\n",
       "    }\n",
       "</style>\n",
       "<table border=\"1\" class=\"dataframe\">\n",
       "  <thead>\n",
       "    <tr style=\"text-align: right;\">\n",
       "      <th></th>\n",
       "      <th>Recommended</th>\n",
       "      <th>Review</th>\n",
       "      <th>Review_length</th>\n",
       "      <th>Exc_Count</th>\n",
       "      <th>Polarity</th>\n",
       "    </tr>\n",
       "  </thead>\n",
       "  <tbody>\n",
       "    <tr>\n",
       "      <td>2</td>\n",
       "      <td>0</td>\n",
       "      <td>Some major design flaws I had such high hopes ...</td>\n",
       "      <td>524</td>\n",
       "      <td>1</td>\n",
       "      <td>0.073209</td>\n",
       "    </tr>\n",
       "    <tr>\n",
       "      <td>3</td>\n",
       "      <td>1</td>\n",
       "      <td>My favorite buy! I love, love, love this jumps...</td>\n",
       "      <td>141</td>\n",
       "      <td>3</td>\n",
       "      <td>0.560714</td>\n",
       "    </tr>\n",
       "    <tr>\n",
       "      <td>4</td>\n",
       "      <td>1</td>\n",
       "      <td>Flattering shirt This shirt is very flattering...</td>\n",
       "      <td>209</td>\n",
       "      <td>3</td>\n",
       "      <td>0.512891</td>\n",
       "    </tr>\n",
       "    <tr>\n",
       "      <td>5</td>\n",
       "      <td>0</td>\n",
       "      <td>Not for the very petite I love tracy reese dre...</td>\n",
       "      <td>512</td>\n",
       "      <td>0</td>\n",
       "      <td>0.181111</td>\n",
       "    </tr>\n",
       "    <tr>\n",
       "      <td>6</td>\n",
       "      <td>1</td>\n",
       "      <td>Cagrcoal shimmer fun I aded this in my basket ...</td>\n",
       "      <td>517</td>\n",
       "      <td>0</td>\n",
       "      <td>0.157500</td>\n",
       "    </tr>\n",
       "    <tr>\n",
       "      <td>7</td>\n",
       "      <td>1</td>\n",
       "      <td>Shimmer, surprisingly goes with lots I ordered...</td>\n",
       "      <td>519</td>\n",
       "      <td>0</td>\n",
       "      <td>0.230342</td>\n",
       "    </tr>\n",
       "    <tr>\n",
       "      <td>8</td>\n",
       "      <td>1</td>\n",
       "      <td>Flattering I love this dress. i usually get an...</td>\n",
       "      <td>177</td>\n",
       "      <td>0</td>\n",
       "      <td>0.002500</td>\n",
       "    </tr>\n",
       "    <tr>\n",
       "      <td>9</td>\n",
       "      <td>1</td>\n",
       "      <td>Such a fun dress! I'm 5\"5' and 125 lbs. i orde...</td>\n",
       "      <td>378</td>\n",
       "      <td>1</td>\n",
       "      <td>0.201814</td>\n",
       "    </tr>\n",
       "    <tr>\n",
       "      <td>10</td>\n",
       "      <td>0</td>\n",
       "      <td>Dress looks like it's made of cheap material D...</td>\n",
       "      <td>381</td>\n",
       "      <td>2</td>\n",
       "      <td>-0.047435</td>\n",
       "    </tr>\n",
       "    <tr>\n",
       "      <td>12</td>\n",
       "      <td>1</td>\n",
       "      <td>Perfect!!! More and more i find myself reliant...</td>\n",
       "      <td>513</td>\n",
       "      <td>3</td>\n",
       "      <td>0.307143</td>\n",
       "    </tr>\n",
       "    <tr>\n",
       "      <td>13</td>\n",
       "      <td>1</td>\n",
       "      <td>Runs big Bought the black xs to go under the l...</td>\n",
       "      <td>383</td>\n",
       "      <td>0</td>\n",
       "      <td>0.168125</td>\n",
       "    </tr>\n",
       "    <tr>\n",
       "      <td>14</td>\n",
       "      <td>1</td>\n",
       "      <td>Pretty party dress with some issues This is a ...</td>\n",
       "      <td>536</td>\n",
       "      <td>0</td>\n",
       "      <td>-0.036667</td>\n",
       "    </tr>\n",
       "    <tr>\n",
       "      <td>15</td>\n",
       "      <td>1</td>\n",
       "      <td>Nice, but not for my body I took these out of ...</td>\n",
       "      <td>496</td>\n",
       "      <td>1</td>\n",
       "      <td>0.205988</td>\n",
       "    </tr>\n",
       "    <tr>\n",
       "      <td>16</td>\n",
       "      <td>1</td>\n",
       "      <td>You need to be at least average height, or tal...</td>\n",
       "      <td>409</td>\n",
       "      <td>0</td>\n",
       "      <td>0.069481</td>\n",
       "    </tr>\n",
       "    <tr>\n",
       "      <td>17</td>\n",
       "      <td>1</td>\n",
       "      <td>Looks great with white pants Took a chance on ...</td>\n",
       "      <td>325</td>\n",
       "      <td>0</td>\n",
       "      <td>0.261667</td>\n",
       "    </tr>\n",
       "    <tr>\n",
       "      <td>18</td>\n",
       "      <td>1</td>\n",
       "      <td>Super cute and cozy A flattering, super cozy c...</td>\n",
       "      <td>187</td>\n",
       "      <td>0</td>\n",
       "      <td>0.135000</td>\n",
       "    </tr>\n",
       "    <tr>\n",
       "      <td>19</td>\n",
       "      <td>1</td>\n",
       "      <td>Stylish and comfortable I love the look and fe...</td>\n",
       "      <td>316</td>\n",
       "      <td>1</td>\n",
       "      <td>0.435124</td>\n",
       "    </tr>\n",
       "    <tr>\n",
       "      <td>20</td>\n",
       "      <td>1</td>\n",
       "      <td>Cute, crisp shirt If this product was in petit...</td>\n",
       "      <td>312</td>\n",
       "      <td>1</td>\n",
       "      <td>0.245076</td>\n",
       "    </tr>\n",
       "    <tr>\n",
       "      <td>21</td>\n",
       "      <td>1</td>\n",
       "      <td>I'm torn! I'm upset because for the price of t...</td>\n",
       "      <td>510</td>\n",
       "      <td>2</td>\n",
       "      <td>0.124621</td>\n",
       "    </tr>\n",
       "    <tr>\n",
       "      <td>22</td>\n",
       "      <td>0</td>\n",
       "      <td>Not what it looks like First of all, this is n...</td>\n",
       "      <td>460</td>\n",
       "      <td>1</td>\n",
       "      <td>-0.045595</td>\n",
       "    </tr>\n",
       "  </tbody>\n",
       "</table>\n",
       "</div>"
      ],
      "text/plain": [
       "    Recommended                                             Review  \\\n",
       "2             0  Some major design flaws I had such high hopes ...   \n",
       "3             1  My favorite buy! I love, love, love this jumps...   \n",
       "4             1  Flattering shirt This shirt is very flattering...   \n",
       "5             0  Not for the very petite I love tracy reese dre...   \n",
       "6             1  Cagrcoal shimmer fun I aded this in my basket ...   \n",
       "7             1  Shimmer, surprisingly goes with lots I ordered...   \n",
       "8             1  Flattering I love this dress. i usually get an...   \n",
       "9             1  Such a fun dress! I'm 5\"5' and 125 lbs. i orde...   \n",
       "10            0  Dress looks like it's made of cheap material D...   \n",
       "12            1  Perfect!!! More and more i find myself reliant...   \n",
       "13            1  Runs big Bought the black xs to go under the l...   \n",
       "14            1  Pretty party dress with some issues This is a ...   \n",
       "15            1  Nice, but not for my body I took these out of ...   \n",
       "16            1  You need to be at least average height, or tal...   \n",
       "17            1  Looks great with white pants Took a chance on ...   \n",
       "18            1  Super cute and cozy A flattering, super cozy c...   \n",
       "19            1  Stylish and comfortable I love the look and fe...   \n",
       "20            1  Cute, crisp shirt If this product was in petit...   \n",
       "21            1  I'm torn! I'm upset because for the price of t...   \n",
       "22            0  Not what it looks like First of all, this is n...   \n",
       "\n",
       "    Review_length  Exc_Count  Polarity  \n",
       "2             524          1  0.073209  \n",
       "3             141          3  0.560714  \n",
       "4             209          3  0.512891  \n",
       "5             512          0  0.181111  \n",
       "6             517          0  0.157500  \n",
       "7             519          0  0.230342  \n",
       "8             177          0  0.002500  \n",
       "9             378          1  0.201814  \n",
       "10            381          2 -0.047435  \n",
       "12            513          3  0.307143  \n",
       "13            383          0  0.168125  \n",
       "14            536          0 -0.036667  \n",
       "15            496          1  0.205988  \n",
       "16            409          0  0.069481  \n",
       "17            325          0  0.261667  \n",
       "18            187          0  0.135000  \n",
       "19            316          1  0.435124  \n",
       "20            312          1  0.245076  \n",
       "21            510          2  0.124621  \n",
       "22            460          1 -0.045595  "
      ]
     },
     "execution_count": 31,
     "metadata": {},
     "output_type": "execute_result"
    }
   ],
   "source": [
    "new_df['Polarity'] = new_df['Review'].apply(lambda x: TextBlob(x).sentiment.polarity)\n",
    "new_df.head(20)"
   ]
  },
  {
   "cell_type": "code",
   "execution_count": 32,
   "metadata": {
    "scrolled": true
   },
   "outputs": [
    {
     "data": {
      "image/png": "[encoded data removed]",
      "text/plain": [
       "<Figure size 792x360 with 1 Axes>"
      ]
     },
     "metadata": {},
     "output_type": "display_data"
    }
   ],
   "source": [
    "new_df['Polarity'].plot(kind='hist', bins=100,color = 'cyan')\n",
    "plt.title(\"Distribution of Polarity\",loc ='left')\n",
    "plt.xlabel('Polarity')\n",
    "plt.show()"
   ]
  },
  {
   "cell_type": "code",
   "execution_count": 33,
   "metadata": {},
   "outputs": [],
   "source": [
    "prep = new_df.copy()"
   ]
  },
  {
   "cell_type": "code",
   "execution_count": 34,
   "metadata": {},
   "outputs": [
    {
     "data": {
      "text/plain": [
       "'!\"#$%&\\'()*+,-./:;<=>?@[\\\\]^_`{|}~'"
      ]
     },
     "execution_count": 34,
     "metadata": {},
     "output_type": "execute_result"
    }
   ],
   "source": [
    "string.punctuation"
   ]
  },
  {
   "cell_type": "code",
   "execution_count": 35,
   "metadata": {},
   "outputs": [],
   "source": [
    "def punctuation_removal(messy_str):\n",
    "    clean_list = [char for char in messy_str if char not in string.punctuation]\n",
    "    clean_str = ''.join(clean_list)\n",
    "    return clean_str"
   ]
  },
  {
   "cell_type": "code",
   "execution_count": 36,
   "metadata": {},
   "outputs": [
    {
     "data": {
      "text/plain": [
       "2    Some major design flaws I had such high hopes ...\n",
       "3    My favorite buy I love love love this jumpsuit...\n",
       "4    Flattering shirt This shirt is very flattering...\n",
       "5    Not for the very petite I love tracy reese dre...\n",
       "6    Cagrcoal shimmer fun I aded this in my basket ...\n",
       "Name: Review, dtype: object"
      ]
     },
     "execution_count": 36,
     "metadata": {},
     "output_type": "execute_result"
    }
   ],
   "source": [
    "prep['Review'] = prep['Review'].apply(punctuation_removal)\n",
    "prep['Review'].head()"
   ]
  },
  {
   "cell_type": "code",
   "execution_count": 37,
   "metadata": {},
   "outputs": [],
   "source": [
    "def adj_collector(review_str):\n",
    "    new_str=[]\n",
    "    review_str = word_tokenize(review_str)\n",
    "    tup_word = nltk.pos_tag(review_str)\n",
    "    for tup in tup_word:\n",
    "        if 'VB' in tup[1] or tup[1]=='JJ':  #Verbs and Adjectives\n",
    "            new_str.append(tup[0])  \n",
    "    return ' '.join(new_str)"
   ]
  },
  {
   "cell_type": "code",
   "execution_count": 38,
   "metadata": {},
   "outputs": [
    {
     "name": "stderr",
     "output_type": "stream",
     "text": [
      "[nltk_data] Downloading package punkt to\n",
      "[nltk_data]     C:\\Users\\spawa\\AppData\\Roaming\\nltk_data...\n",
      "[nltk_data]   Package punkt is already up-to-date!\n",
      "[nltk_data] Downloading package averaged_perceptron_tagger to\n",
      "[nltk_data]     C:\\Users\\spawa\\AppData\\Roaming\\nltk_data...\n",
      "[nltk_data]   Package averaged_perceptron_tagger is already up-to-\n",
      "[nltk_data]       date!\n",
      "[nltk_data] Downloading package stopwords to\n",
      "[nltk_data]     C:\\Users\\spawa\\AppData\\Roaming\\nltk_data...\n",
      "[nltk_data]   Package stopwords is already up-to-date!\n"
     ]
    },
    {
     "data": {
      "text/plain": [
       "True"
      ]
     },
     "execution_count": 38,
     "metadata": {},
     "output_type": "execute_result"
    }
   ],
   "source": [
    "import nltk\n",
    "nltk.download('punkt')\n",
    "nltk.download('averaged_perceptron_tagger')\n",
    "nltk.download('stopwords')"
   ]
  },
  {
   "cell_type": "code",
   "execution_count": 39,
   "metadata": {},
   "outputs": [
    {
     "data": {
      "text/plain": [
       "2    major had such high wanted work i ordered smal...\n",
       "3         favorite love love fabulous wear i get great\n",
       "4    Flattering is flattering due adjustable is per...\n",
       "5    petite love reese is petite am tall wear was i...\n",
       "6    aded last see look i went am pale is gorgeous ...\n",
       "7    goes ordered had try used top pair went is nic...\n",
       "8    Flattering love get runs little ordered flatte...\n",
       "Name: Review, dtype: object"
      ]
     },
     "execution_count": 39,
     "metadata": {},
     "output_type": "execute_result"
    }
   ],
   "source": [
    "prep['Review'] = prep['Review'].apply(adj_collector)\n",
    "prep['Review'].head(7)"
   ]
  },
  {
   "cell_type": "markdown",
   "metadata": {},
   "source": [
    "Removing stopwords"
   ]
  },
  {
   "cell_type": "code",
   "execution_count": 40,
   "metadata": {},
   "outputs": [
    {
     "name": "stdout",
     "output_type": "stream",
     "text": [
      "['i', \"you'd\", 'hers', 'which', 'were', 'a', 'at', 'above', 'again', 'both', 'own', \"don't\", 'aren', 'haven', \"shan't\"]\n"
     ]
    }
   ],
   "source": [
    "print(stopwords.words('english')[::12])"
   ]
  },
  {
   "cell_type": "code",
   "execution_count": 41,
   "metadata": {},
   "outputs": [],
   "source": [
    "stop = stopwords.words('english')\n",
    "stop.append(\"i'm\")"
   ]
  },
  {
   "cell_type": "code",
   "execution_count": 42,
   "metadata": {},
   "outputs": [
    {
     "name": "stdout",
     "output_type": "stream",
     "text": [
      "['i', 'youd', 'hers', 'which', 'were', 'a', 'at', 'above', 'again', 'both', 'own', 'dont', 'aren', 'haven', 'shant']\n"
     ]
    }
   ],
   "source": [
    "stop_words = []\n",
    "\n",
    "for item in stop: \n",
    "    new_item = punctuation_removal(item)\n",
    "    stop_words.append(new_item) \n",
    "print(stop_words[::12])"
   ]
  },
  {
   "cell_type": "code",
   "execution_count": 43,
   "metadata": {},
   "outputs": [],
   "source": [
    "clothes_list =['dress', 'top','sweater','shirt',\n",
    "               'skirt','material', 'white', 'black',\n",
    "              'jeans', 'fabric', 'color','order', 'wear']"
   ]
  },
  {
   "cell_type": "code",
   "execution_count": 44,
   "metadata": {},
   "outputs": [],
   "source": [
    "def stopwords_removal(messy_str):\n",
    "    messy_str = word_tokenize(messy_str)\n",
    "    return [word.lower() for word in messy_str \n",
    "            if word.lower() not in stop_words and word.lower() not in clothes_list ]"
   ]
  },
  {
   "cell_type": "code",
   "execution_count": 45,
   "metadata": {},
   "outputs": [
    {
     "data": {
      "text/plain": [
       "2    [major, high, wanted, work, ordered, small, us...\n",
       "3         [favorite, love, love, fabulous, get, great]\n",
       "4    [flattering, flattering, due, adjustable, perf...\n",
       "5    [petite, love, reese, petite, tall, long, full...\n",
       "6    [aded, last, see, look, went, pale, gorgeous, ...\n",
       "Name: Review, dtype: object"
      ]
     },
     "execution_count": 45,
     "metadata": {},
     "output_type": "execute_result"
    }
   ],
   "source": [
    "prep['Review'] = prep['Review'].apply(stopwords_removal)\n",
    "prep['Review'].head()"
   ]
  },
  {
   "cell_type": "code",
   "execution_count": 46,
   "metadata": {},
   "outputs": [
    {
     "name": "stdout",
     "output_type": "stream",
     "text": [
      "['nice', 'short', 'tall', 'iamp39d', 'say', 'fits', 'true', 'short', 'iamp39m', 'tall', 'wish', 'came']\n"
     ]
    }
   ],
   "source": [
    "print(prep['Review'][267])"
   ]
  },
  {
   "cell_type": "markdown",
   "metadata": {},
   "source": [
    "Removing all numbers (weight, size etc."
   ]
  },
  {
   "cell_type": "code",
   "execution_count": 47,
   "metadata": {},
   "outputs": [],
   "source": [
    "def drop_numbers(nos):\n",
    "    rem_nos = []\n",
    "    for i in nos:\n",
    "        if not re.search('\\d', i):\n",
    "            rem_nos.append(i)\n",
    "    return ' '.join(rem_nos)"
   ]
  },
  {
   "cell_type": "code",
   "execution_count": 48,
   "metadata": {},
   "outputs": [
    {
     "data": {
      "text/plain": [
       "2    major high wanted work ordered small usual fou...\n",
       "3                favorite love love fabulous get great\n",
       "4    flattering flattering due adjustable perfect p...\n",
       "5    petite love reese petite tall long full overwh...\n",
       "6    aded last see look went pale gorgeous turns ma...\n",
       "Name: Review, dtype: object"
      ]
     },
     "execution_count": 48,
     "metadata": {},
     "output_type": "execute_result"
    }
   ],
   "source": [
    "prep['Review'] = prep['Review'].apply(drop_numbers)\n",
    "prep['Review'].head()"
   ]
  },
  {
   "cell_type": "code",
   "execution_count": 49,
   "metadata": {},
   "outputs": [
    {
     "name": "stdout",
     "output_type": "stream",
     "text": [
      "nice short tall say fits true short tall wish came\n"
     ]
    }
   ],
   "source": [
    "print(prep['Review'][267])"
   ]
  },
  {
   "cell_type": "markdown",
   "metadata": {},
   "source": [
    "Stemming"
   ]
  },
  {
   "cell_type": "code",
   "execution_count": 50,
   "metadata": {},
   "outputs": [],
   "source": [
    "porter = PorterStemmer()"
   ]
  },
  {
   "cell_type": "code",
   "execution_count": 51,
   "metadata": {
    "scrolled": true
   },
   "outputs": [
    {
     "data": {
      "text/plain": [
       "2    [major, high, wanted, work, ordered, small, us...\n",
       "3         [favorite, love, love, fabulous, get, great]\n",
       "4    [flattering, flattering, due, adjustable, perf...\n",
       "5    [petite, love, reese, petite, tall, long, full...\n",
       "6    [aded, last, see, look, went, pale, gorgeous, ...\n",
       "Name: Review, dtype: object"
      ]
     },
     "execution_count": 51,
     "metadata": {},
     "output_type": "execute_result"
    }
   ],
   "source": [
    "prep['Review'] = prep['Review'].apply(lambda x: x.split())\n",
    "prep['Review'].head()"
   ]
  },
  {
   "cell_type": "code",
   "execution_count": 52,
   "metadata": {},
   "outputs": [],
   "source": [
    "def stem_update(text_list):\n",
    "    text_list_new = []\n",
    "    for word in text_list:\n",
    "        word = porter.stem(word)\n",
    "        text_list_new.append(word) \n",
    "    return text_list_new"
   ]
  },
  {
   "cell_type": "code",
   "execution_count": 53,
   "metadata": {
    "scrolled": true
   },
   "outputs": [
    {
     "data": {
      "text/plain": [
       "2    [major, high, want, work, order, small, usual,...\n",
       "3             [favorit, love, love, fabul, get, great]\n",
       "4    [flatter, flatter, due, adjust, perfect, pair,...\n",
       "5    [petit, love, rees, petit, tall, long, full, o...\n",
       "6    [ade, last, see, look, went, pale, gorgeou, tu...\n",
       "Name: Review, dtype: object"
      ]
     },
     "execution_count": 53,
     "metadata": {},
     "output_type": "execute_result"
    }
   ],
   "source": [
    "prep['Review'] = prep['Review'].apply(stem_update)\n",
    "prep['Review'].head()"
   ]
  },
  {
   "cell_type": "code",
   "execution_count": 54,
   "metadata": {},
   "outputs": [
    {
     "data": {
      "text/plain": [
       "2    major high want work order small usual found s...\n",
       "3                    favorit love love fabul get great\n",
       "4     flatter flatter due adjust perfect pair cardigan\n",
       "5    petit love rees petit tall long full overwhelm...\n",
       "6    ade last see look went pale gorgeou turn mathc...\n",
       "Name: Review, dtype: object"
      ]
     },
     "execution_count": 54,
     "metadata": {},
     "output_type": "execute_result"
    }
   ],
   "source": [
    "prep['Review'] = prep['Review'].apply(lambda x: ' '.join(x))\n",
    "prep['Review'].head()"
   ]
  },
  {
   "cell_type": "code",
   "execution_count": 55,
   "metadata": {},
   "outputs": [
    {
     "name": "stdout",
     "output_type": "stream",
     "text": [
      "flatter purchas return expect fit said lb got get disappoint soft purchas regular fit look terribl say tall thin ye short petit\n"
     ]
    }
   ],
   "source": [
    "print(prep['Review'][2293])"
   ]
  },
  {
   "cell_type": "markdown",
   "metadata": {},
   "source": [
    "Wordcloud"
   ]
  },
  {
   "cell_type": "code",
   "execution_count": 56,
   "metadata": {},
   "outputs": [
    {
     "data": {
      "text/html": [
       "<div>\n",
       "<style scoped>\n",
       "    .dataframe tbody tr th:only-of-type {\n",
       "        vertical-align: middle;\n",
       "    }\n",
       "\n",
       "    .dataframe tbody tr th {\n",
       "        vertical-align: top;\n",
       "    }\n",
       "\n",
       "    .dataframe thead th {\n",
       "        text-align: right;\n",
       "    }\n",
       "</style>\n",
       "<table border=\"1\" class=\"dataframe\">\n",
       "  <thead>\n",
       "    <tr style=\"text-align: right;\">\n",
       "      <th></th>\n",
       "      <th>Recommended</th>\n",
       "      <th>Review</th>\n",
       "      <th>Review_length</th>\n",
       "      <th>Exc_Count</th>\n",
       "      <th>Polarity</th>\n",
       "    </tr>\n",
       "  </thead>\n",
       "  <tbody>\n",
       "    <tr>\n",
       "      <td>3</td>\n",
       "      <td>1</td>\n",
       "      <td>favorit love love fabul get great</td>\n",
       "      <td>141</td>\n",
       "      <td>3</td>\n",
       "      <td>0.560714</td>\n",
       "    </tr>\n",
       "    <tr>\n",
       "      <td>4</td>\n",
       "      <td>1</td>\n",
       "      <td>flatter flatter due adjust perfect pair cardigan</td>\n",
       "      <td>209</td>\n",
       "      <td>3</td>\n",
       "      <td>0.512891</td>\n",
       "    </tr>\n",
       "    <tr>\n",
       "      <td>6</td>\n",
       "      <td>1</td>\n",
       "      <td>ade last see look went pale gorgeou turn mathc...</td>\n",
       "      <td>517</td>\n",
       "      <td>0</td>\n",
       "      <td>0.157500</td>\n",
       "    </tr>\n",
       "    <tr>\n",
       "      <td>7</td>\n",
       "      <td>1</td>\n",
       "      <td>goe order tri use pair went nice went flare et...</td>\n",
       "      <td>519</td>\n",
       "      <td>0</td>\n",
       "      <td>0.230342</td>\n",
       "    </tr>\n",
       "    <tr>\n",
       "      <td>8</td>\n",
       "      <td>1</td>\n",
       "      <td>flatter love get run littl order flatter femin...</td>\n",
       "      <td>177</td>\n",
       "      <td>0</td>\n",
       "      <td>0.002500</td>\n",
       "    </tr>\n",
       "    <tr>\n",
       "      <td>9</td>\n",
       "      <td>1</td>\n",
       "      <td>order make sure long xs busti fit snug tight l...</td>\n",
       "      <td>378</td>\n",
       "      <td>1</td>\n",
       "      <td>0.201814</td>\n",
       "    </tr>\n",
       "    <tr>\n",
       "      <td>12</td>\n",
       "      <td>1</td>\n",
       "      <td>find written savvi right reveiwsi tri made lin...</td>\n",
       "      <td>513</td>\n",
       "      <td>3</td>\n",
       "      <td>0.307143</td>\n",
       "    </tr>\n",
       "    <tr>\n",
       "      <td>13</td>\n",
       "      <td>1</td>\n",
       "      <td>big bought go line xs fit flowi say run big ni...</td>\n",
       "      <td>383</td>\n",
       "      <td>0</td>\n",
       "      <td>0.168125</td>\n",
       "    </tr>\n",
       "    <tr>\n",
       "      <td>14</td>\n",
       "      <td>1</td>\n",
       "      <td>nice graze conserv relat small small run small...</td>\n",
       "      <td>536</td>\n",
       "      <td>0</td>\n",
       "      <td>-0.036667</td>\n",
       "    </tr>\n",
       "    <tr>\n",
       "      <td>15</td>\n",
       "      <td>1</td>\n",
       "      <td>took want fit tell put straight small size tel...</td>\n",
       "      <td>496</td>\n",
       "      <td>1</td>\n",
       "      <td>0.205988</td>\n",
       "    </tr>\n",
       "  </tbody>\n",
       "</table>\n",
       "</div>"
      ],
      "text/plain": [
       "    Recommended                                             Review  \\\n",
       "3             1                  favorit love love fabul get great   \n",
       "4             1   flatter flatter due adjust perfect pair cardigan   \n",
       "6             1  ade last see look went pale gorgeou turn mathc...   \n",
       "7             1  goe order tri use pair went nice went flare et...   \n",
       "8             1  flatter love get run littl order flatter femin...   \n",
       "9             1  order make sure long xs busti fit snug tight l...   \n",
       "12            1  find written savvi right reveiwsi tri made lin...   \n",
       "13            1  big bought go line xs fit flowi say run big ni...   \n",
       "14            1  nice graze conserv relat small small run small...   \n",
       "15            1  took want fit tell put straight small size tel...   \n",
       "\n",
       "    Review_length  Exc_Count  Polarity  \n",
       "3             141          3  0.560714  \n",
       "4             209          3  0.512891  \n",
       "6             517          0  0.157500  \n",
       "7             519          0  0.230342  \n",
       "8             177          0  0.002500  \n",
       "9             378          1  0.201814  \n",
       "12            513          3  0.307143  \n",
       "13            383          0  0.168125  \n",
       "14            536          0 -0.036667  \n",
       "15            496          1  0.205988  "
      ]
     },
     "execution_count": 56,
     "metadata": {},
     "output_type": "execute_result"
    }
   ],
   "source": [
    "pos_df = prep[prep.Recommended== 1]\n",
    "neg_df = prep[prep.Recommended== 0]\n",
    "pos_df.head(10)"
   ]
  },
  {
   "cell_type": "code",
   "execution_count": 57,
   "metadata": {},
   "outputs": [],
   "source": [
    "pos_words =[]\n",
    "neg_words = []\n",
    "\n",
    "for review in pos_df.Review:\n",
    "    pos_words.append(review) \n",
    "pos_words = ' '.join(pos_words)\n",
    "\n",
    "\n",
    "for review in neg_df.Review:\n",
    "    neg_words.append(review)\n",
    "neg_words = ' '.join(neg_words)\n",
    "\n"
   ]
  },
  {
   "cell_type": "code",
   "execution_count": 58,
   "metadata": {},
   "outputs": [
    {
     "data": {
      "image/png": "[encoded data removed]",
      "text/plain": [
       "<Figure size 936x936 with 1 Axes>"
      ]
     },
     "metadata": {},
     "output_type": "display_data"
    }
   ],
   "source": [
    "wordcloud = WordCloud().generate(pos_words)\n",
    "\n",
    "wordcloud = WordCloud(background_color=\"white\",max_words=len(pos_words),\\\n",
    "                      max_font_size=40, relative_scaling=.5, colormap='summer').generate(pos_words)\n",
    "plt.figure(figsize=(13,13))\n",
    "plt.imshow(wordcloud)\n",
    "plt.axis(\"off\")\n",
    "plt.show()"
   ]
  },
  {
   "cell_type": "code",
   "execution_count": 59,
   "metadata": {},
   "outputs": [
    {
     "data": {
      "image/png": "[encoded data removed]",
      "text/plain": [
       "<Figure size 936x936 with 1 Axes>"
      ]
     },
     "metadata": {},
     "output_type": "display_data"
    }
   ],
   "source": [
    "wordcloud = WordCloud().generate(neg_words)\n",
    "\n",
    "wordcloud = WordCloud(background_color=\"white\",max_words=len(neg_words),\\\n",
    "                      max_font_size=40, relative_scaling=.5, colormap='gist_heat').generate(neg_words)\n",
    "plt.figure(figsize=(13,13))\n",
    "plt.imshow(wordcloud)\n",
    "plt.axis(\"off\")\n",
    "plt.show()"
   ]
  },
  {
   "cell_type": "markdown",
   "metadata": {},
   "source": [
    "Vectorizing - Bag of Words"
   ]
  },
  {
   "cell_type": "code",
   "execution_count": 60,
   "metadata": {},
   "outputs": [],
   "source": [
    "def vectorizing_process(sentence_str):\n",
    "    return [word for word in sentence_str.split()]"
   ]
  },
  {
   "cell_type": "code",
   "execution_count": 61,
   "metadata": {},
   "outputs": [],
   "source": [
    "bow_transformer = CountVectorizer(vectorizing_process)"
   ]
  },
  {
   "cell_type": "code",
   "execution_count": 62,
   "metadata": {},
   "outputs": [
    {
     "data": {
      "text/plain": [
       "CountVectorizer(analyzer='word', binary=False, decode_error='strict',\n",
       "                dtype=<class 'numpy.int64'>, encoding='utf-8',\n",
       "                input=<function vectorizing_process at 0x000001D80EA920D8>,\n",
       "                lowercase=True, max_df=1.0, max_features=None, min_df=1,\n",
       "                ngram_range=(1, 1), preprocessor=None, stop_words=None,\n",
       "                strip_accents=None, token_pattern='(?u)\\\\b\\\\w\\\\w+\\\\b',\n",
       "                tokenizer=None, vocabulary=None)"
      ]
     },
     "execution_count": 62,
     "metadata": {},
     "output_type": "execute_result"
    }
   ],
   "source": [
    "bow_transformer.fit(prep['Review'])"
   ]
  },
  {
   "cell_type": "code",
   "execution_count": 63,
   "metadata": {},
   "outputs": [
    {
     "name": "stdout",
     "output_type": "stream",
     "text": [
      "flatter love get run littl order flatter feminin usual\n"
     ]
    }
   ],
   "source": [
    "print(prep['Review'].iloc[6])"
   ]
  },
  {
   "cell_type": "code",
   "execution_count": 64,
   "metadata": {},
   "outputs": [
    {
     "name": "stdout",
     "output_type": "stream",
     "text": [
      "  (0, 2148)\t1\n",
      "  (0, 2242)\t2\n",
      "  (0, 2492)\t1\n",
      "  (0, 3420)\t1\n",
      "  (0, 3506)\t1\n",
      "  (0, 4209)\t1\n",
      "  (0, 5097)\t1\n",
      "  (0, 6812)\t1\n"
     ]
    }
   ],
   "source": [
    "example = bow_transformer.transform([prep['Review'].iloc[6]])\n",
    "print(example)"
   ]
  },
  {
   "cell_type": "code",
   "execution_count": 65,
   "metadata": {
    "scrolled": true
   },
   "outputs": [
    {
     "data": {
      "text/plain": [
       "<19662x7276 sparse matrix of type '<class 'numpy.int64'>'\n",
       "\twith 237857 stored elements in Compressed Sparse Row format>"
      ]
     },
     "execution_count": 65,
     "metadata": {},
     "output_type": "execute_result"
    }
   ],
   "source": [
    "Reviews = bow_transformer.transform(prep['Review'])\n",
    "Reviews"
   ]
  },
  {
   "cell_type": "code",
   "execution_count": 66,
   "metadata": {},
   "outputs": [
    {
     "name": "stdout",
     "output_type": "stream",
     "text": [
      "Shape of Sparse Matrix (19662, 7276)\n",
      "Amount of Non-Zero occurences: 237857\n"
     ]
    }
   ],
   "source": [
    "print('Shape of Sparse Matrix', Reviews.shape)\n",
    "print('Amount of Non-Zero occurences:', Reviews.nnz)"
   ]
  },
  {
   "cell_type": "markdown",
   "metadata": {},
   "source": [
    "Term Frequency–Inverse Document Frequency"
   ]
  },
  {
   "cell_type": "code",
   "execution_count": 67,
   "metadata": {},
   "outputs": [
    {
     "name": "stdout",
     "output_type": "stream",
     "text": [
      "  (0, 6812)\t0.38715702321289835\n",
      "  (0, 5097)\t0.28876414175053866\n",
      "  (0, 4209)\t0.2562478579058955\n",
      "  (0, 3506)\t0.18640763255159604\n",
      "  (0, 3420)\t0.26875472512076126\n",
      "  (0, 2492)\t0.30503570134358937\n",
      "  (0, 2242)\t0.5339366121269553\n",
      "  (0, 2148)\t0.46470394072207855\n"
     ]
    }
   ],
   "source": [
    "tfidf_transformer = TfidfTransformer().fit(Reviews)\n",
    "\n",
    "tfidf_example = tfidf_transformer.transform(example)\n",
    "print (tfidf_example)"
   ]
  },
  {
   "cell_type": "code",
   "execution_count": 68,
   "metadata": {},
   "outputs": [
    {
     "data": {
      "text/plain": [
       "[('flamenco', 2226)]"
      ]
     },
     "execution_count": 68,
     "metadata": {},
     "output_type": "execute_result"
    }
   ],
   "source": [
    "[i for i in bow_transformer.vocabulary_.items() if i[1]==2226]"
   ]
  },
  {
   "cell_type": "code",
   "execution_count": 69,
   "metadata": {},
   "outputs": [
    {
     "data": {
      "text/plain": [
       "[('usual', 6812),\n",
       " ('tight', 6382),\n",
       " ('flatter', 2242),\n",
       " ('overwhelm', 4301),\n",
       " ('pale', 4322),\n",
       " ('said', 5132)]"
      ]
     },
     "execution_count": 69,
     "metadata": {},
     "output_type": "execute_result"
    }
   ],
   "source": [
    "[i for i in bow_transformer.vocabulary_.items()][6:60:10]"
   ]
  },
  {
   "cell_type": "code",
   "execution_count": 70,
   "metadata": {},
   "outputs": [
    {
     "data": {
      "text/plain": [
       "(19662, 7276)"
      ]
     },
     "execution_count": 70,
     "metadata": {},
     "output_type": "execute_result"
    }
   ],
   "source": [
    "msg_tfidf = tfidf_transformer.transform(Reviews)\n",
    "msg_tfidf.shape"
   ]
  },
  {
   "cell_type": "code",
   "execution_count": 71,
   "metadata": {},
   "outputs": [
    {
     "name": "stdout",
     "output_type": "stream",
     "text": [
      "  (0, 7272)\t0.21471248032123674\n",
      "  (0, 7158)\t0.12710403438351436\n",
      "  (0, 6929)\t0.12017356219848803\n",
      "  (0, 6812)\t0.15132348131106407\n",
      "  (0, 6382)\t0.14062308848813138\n",
      "  (0, 5600)\t0.2978653215468642\n",
      "  (0, 5289)\t0.18844097401824506\n",
      "  (0, 4942)\t0.24443010814357377\n",
      "  (0, 4437)\t0.13984936774578804\n",
      "  (0, 4259)\t0.1585652642096957\n",
      "  (0, 4209)\t0.1001565659716828\n",
      "  (0, 4137)\t0.20923107084158285\n",
      "  (0, 3943)\t0.30396331781030056\n",
      "  (0, 3583)\t0.5250335216558651\n",
      "  (0, 2933)\t0.3111490185969125\n",
      "  (0, 2768)\t0.1460467597438324\n",
      "  (0, 2363)\t0.15055240254904467\n",
      "  (0, 2196)\t0.08515020472060218\n",
      "  (0, 1153)\t0.1062615432086087\n",
      "  (0, 984)\t0.19197041555126027\n",
      "  (0, 698)\t0.18406569756771646\n"
     ]
    }
   ],
   "source": [
    "print(msg_tfidf[:1])"
   ]
  },
  {
   "cell_type": "markdown",
   "metadata": {},
   "source": [
    "Merging Sparse matrix with other features"
   ]
  },
  {
   "cell_type": "code",
   "execution_count": 72,
   "metadata": {},
   "outputs": [
    {
     "name": "stdout",
     "output_type": "stream",
     "text": [
      "(19662, 7276)\n"
     ]
    },
    {
     "data": {
      "text/html": [
       "<div>\n",
       "<style scoped>\n",
       "    .dataframe tbody tr th:only-of-type {\n",
       "        vertical-align: middle;\n",
       "    }\n",
       "\n",
       "    .dataframe tbody tr th {\n",
       "        vertical-align: top;\n",
       "    }\n",
       "\n",
       "    .dataframe thead th {\n",
       "        text-align: right;\n",
       "    }\n",
       "</style>\n",
       "<table border=\"1\" class=\"dataframe\">\n",
       "  <thead>\n",
       "    <tr style=\"text-align: right;\">\n",
       "      <th></th>\n",
       "      <th>0</th>\n",
       "      <th>1</th>\n",
       "      <th>2</th>\n",
       "      <th>3</th>\n",
       "      <th>4</th>\n",
       "      <th>5</th>\n",
       "      <th>6</th>\n",
       "      <th>7</th>\n",
       "      <th>8</th>\n",
       "      <th>9</th>\n",
       "      <th>...</th>\n",
       "      <th>7266</th>\n",
       "      <th>7267</th>\n",
       "      <th>7268</th>\n",
       "      <th>7269</th>\n",
       "      <th>7270</th>\n",
       "      <th>7271</th>\n",
       "      <th>7272</th>\n",
       "      <th>7273</th>\n",
       "      <th>7274</th>\n",
       "      <th>7275</th>\n",
       "    </tr>\n",
       "  </thead>\n",
       "  <tbody>\n",
       "    <tr>\n",
       "      <td>0</td>\n",
       "      <td>0.0</td>\n",
       "      <td>0.0</td>\n",
       "      <td>0.0</td>\n",
       "      <td>0.0</td>\n",
       "      <td>0.0</td>\n",
       "      <td>0.0</td>\n",
       "      <td>0.0</td>\n",
       "      <td>0.0</td>\n",
       "      <td>0.0</td>\n",
       "      <td>0.0</td>\n",
       "      <td>...</td>\n",
       "      <td>0.0</td>\n",
       "      <td>0.0</td>\n",
       "      <td>0.0</td>\n",
       "      <td>0.0</td>\n",
       "      <td>0.0</td>\n",
       "      <td>0.0</td>\n",
       "      <td>0.214712</td>\n",
       "      <td>0.0</td>\n",
       "      <td>0.0</td>\n",
       "      <td>0.0</td>\n",
       "    </tr>\n",
       "    <tr>\n",
       "      <td>1</td>\n",
       "      <td>0.0</td>\n",
       "      <td>0.0</td>\n",
       "      <td>0.0</td>\n",
       "      <td>0.0</td>\n",
       "      <td>0.0</td>\n",
       "      <td>0.0</td>\n",
       "      <td>0.0</td>\n",
       "      <td>0.0</td>\n",
       "      <td>0.0</td>\n",
       "      <td>0.0</td>\n",
       "      <td>...</td>\n",
       "      <td>0.0</td>\n",
       "      <td>0.0</td>\n",
       "      <td>0.0</td>\n",
       "      <td>0.0</td>\n",
       "      <td>0.0</td>\n",
       "      <td>0.0</td>\n",
       "      <td>0.000000</td>\n",
       "      <td>0.0</td>\n",
       "      <td>0.0</td>\n",
       "      <td>0.0</td>\n",
       "    </tr>\n",
       "    <tr>\n",
       "      <td>2</td>\n",
       "      <td>0.0</td>\n",
       "      <td>0.0</td>\n",
       "      <td>0.0</td>\n",
       "      <td>0.0</td>\n",
       "      <td>0.0</td>\n",
       "      <td>0.0</td>\n",
       "      <td>0.0</td>\n",
       "      <td>0.0</td>\n",
       "      <td>0.0</td>\n",
       "      <td>0.0</td>\n",
       "      <td>...</td>\n",
       "      <td>0.0</td>\n",
       "      <td>0.0</td>\n",
       "      <td>0.0</td>\n",
       "      <td>0.0</td>\n",
       "      <td>0.0</td>\n",
       "      <td>0.0</td>\n",
       "      <td>0.000000</td>\n",
       "      <td>0.0</td>\n",
       "      <td>0.0</td>\n",
       "      <td>0.0</td>\n",
       "    </tr>\n",
       "    <tr>\n",
       "      <td>3</td>\n",
       "      <td>0.0</td>\n",
       "      <td>0.0</td>\n",
       "      <td>0.0</td>\n",
       "      <td>0.0</td>\n",
       "      <td>0.0</td>\n",
       "      <td>0.0</td>\n",
       "      <td>0.0</td>\n",
       "      <td>0.0</td>\n",
       "      <td>0.0</td>\n",
       "      <td>0.0</td>\n",
       "      <td>...</td>\n",
       "      <td>0.0</td>\n",
       "      <td>0.0</td>\n",
       "      <td>0.0</td>\n",
       "      <td>0.0</td>\n",
       "      <td>0.0</td>\n",
       "      <td>0.0</td>\n",
       "      <td>0.000000</td>\n",
       "      <td>0.0</td>\n",
       "      <td>0.0</td>\n",
       "      <td>0.0</td>\n",
       "    </tr>\n",
       "    <tr>\n",
       "      <td>4</td>\n",
       "      <td>0.0</td>\n",
       "      <td>0.0</td>\n",
       "      <td>0.0</td>\n",
       "      <td>0.0</td>\n",
       "      <td>0.0</td>\n",
       "      <td>0.0</td>\n",
       "      <td>0.0</td>\n",
       "      <td>0.0</td>\n",
       "      <td>0.0</td>\n",
       "      <td>0.0</td>\n",
       "      <td>...</td>\n",
       "      <td>0.0</td>\n",
       "      <td>0.0</td>\n",
       "      <td>0.0</td>\n",
       "      <td>0.0</td>\n",
       "      <td>0.0</td>\n",
       "      <td>0.0</td>\n",
       "      <td>0.000000</td>\n",
       "      <td>0.0</td>\n",
       "      <td>0.0</td>\n",
       "      <td>0.0</td>\n",
       "    </tr>\n",
       "  </tbody>\n",
       "</table>\n",
       "<p>5 rows × 7276 columns</p>\n",
       "</div>"
      ],
      "text/plain": [
       "   0     1     2     3     4     5     6     7     8     9     ...  7266  \\\n",
       "0   0.0   0.0   0.0   0.0   0.0   0.0   0.0   0.0   0.0   0.0  ...   0.0   \n",
       "1   0.0   0.0   0.0   0.0   0.0   0.0   0.0   0.0   0.0   0.0  ...   0.0   \n",
       "2   0.0   0.0   0.0   0.0   0.0   0.0   0.0   0.0   0.0   0.0  ...   0.0   \n",
       "3   0.0   0.0   0.0   0.0   0.0   0.0   0.0   0.0   0.0   0.0  ...   0.0   \n",
       "4   0.0   0.0   0.0   0.0   0.0   0.0   0.0   0.0   0.0   0.0  ...   0.0   \n",
       "\n",
       "   7267  7268  7269  7270  7271      7272  7273  7274  7275  \n",
       "0   0.0   0.0   0.0   0.0   0.0  0.214712   0.0   0.0   0.0  \n",
       "1   0.0   0.0   0.0   0.0   0.0  0.000000   0.0   0.0   0.0  \n",
       "2   0.0   0.0   0.0   0.0   0.0  0.000000   0.0   0.0   0.0  \n",
       "3   0.0   0.0   0.0   0.0   0.0  0.000000   0.0   0.0   0.0  \n",
       "4   0.0   0.0   0.0   0.0   0.0  0.000000   0.0   0.0   0.0  \n",
       "\n",
       "[5 rows x 7276 columns]"
      ]
     },
     "execution_count": 72,
     "metadata": {},
     "output_type": "execute_result"
    }
   ],
   "source": [
    "msg_tfidf = msg_tfidf.toarray()\n",
    "msg_tfidf = pd.DataFrame(msg_tfidf)\n",
    "print(msg_tfidf.shape)\n",
    "msg_tfidf.head()"
   ]
  },
  {
   "cell_type": "code",
   "execution_count": 73,
   "metadata": {},
   "outputs": [
    {
     "data": {
      "text/html": [
       "<div>\n",
       "<style scoped>\n",
       "    .dataframe tbody tr th:only-of-type {\n",
       "        vertical-align: middle;\n",
       "    }\n",
       "\n",
       "    .dataframe tbody tr th {\n",
       "        vertical-align: top;\n",
       "    }\n",
       "\n",
       "    .dataframe thead th {\n",
       "        text-align: right;\n",
       "    }\n",
       "</style>\n",
       "<table border=\"1\" class=\"dataframe\">\n",
       "  <thead>\n",
       "    <tr style=\"text-align: right;\">\n",
       "      <th></th>\n",
       "      <th>Recommended</th>\n",
       "      <th>Review_length</th>\n",
       "      <th>Exc_Count</th>\n",
       "      <th>Polarity</th>\n",
       "      <th>0</th>\n",
       "      <th>1</th>\n",
       "      <th>2</th>\n",
       "      <th>3</th>\n",
       "      <th>4</th>\n",
       "      <th>5</th>\n",
       "      <th>...</th>\n",
       "      <th>7266</th>\n",
       "      <th>7267</th>\n",
       "      <th>7268</th>\n",
       "      <th>7269</th>\n",
       "      <th>7270</th>\n",
       "      <th>7271</th>\n",
       "      <th>7272</th>\n",
       "      <th>7273</th>\n",
       "      <th>7274</th>\n",
       "      <th>7275</th>\n",
       "    </tr>\n",
       "  </thead>\n",
       "  <tbody>\n",
       "    <tr>\n",
       "      <td>2</td>\n",
       "      <td>0</td>\n",
       "      <td>524</td>\n",
       "      <td>1</td>\n",
       "      <td>0.073209</td>\n",
       "      <td>0.0</td>\n",
       "      <td>0.0</td>\n",
       "      <td>0.0</td>\n",
       "      <td>0.0</td>\n",
       "      <td>0.0</td>\n",
       "      <td>0.0</td>\n",
       "      <td>...</td>\n",
       "      <td>0.0</td>\n",
       "      <td>0.0</td>\n",
       "      <td>0.0</td>\n",
       "      <td>0.0</td>\n",
       "      <td>0.0</td>\n",
       "      <td>0.0</td>\n",
       "      <td>0.0</td>\n",
       "      <td>0.0</td>\n",
       "      <td>0.0</td>\n",
       "      <td>0.0</td>\n",
       "    </tr>\n",
       "    <tr>\n",
       "      <td>3</td>\n",
       "      <td>1</td>\n",
       "      <td>141</td>\n",
       "      <td>3</td>\n",
       "      <td>0.560714</td>\n",
       "      <td>0.0</td>\n",
       "      <td>0.0</td>\n",
       "      <td>0.0</td>\n",
       "      <td>0.0</td>\n",
       "      <td>0.0</td>\n",
       "      <td>0.0</td>\n",
       "      <td>...</td>\n",
       "      <td>0.0</td>\n",
       "      <td>0.0</td>\n",
       "      <td>0.0</td>\n",
       "      <td>0.0</td>\n",
       "      <td>0.0</td>\n",
       "      <td>0.0</td>\n",
       "      <td>0.0</td>\n",
       "      <td>0.0</td>\n",
       "      <td>0.0</td>\n",
       "      <td>0.0</td>\n",
       "    </tr>\n",
       "    <tr>\n",
       "      <td>4</td>\n",
       "      <td>1</td>\n",
       "      <td>209</td>\n",
       "      <td>3</td>\n",
       "      <td>0.512891</td>\n",
       "      <td>0.0</td>\n",
       "      <td>0.0</td>\n",
       "      <td>0.0</td>\n",
       "      <td>0.0</td>\n",
       "      <td>0.0</td>\n",
       "      <td>0.0</td>\n",
       "      <td>...</td>\n",
       "      <td>0.0</td>\n",
       "      <td>0.0</td>\n",
       "      <td>0.0</td>\n",
       "      <td>0.0</td>\n",
       "      <td>0.0</td>\n",
       "      <td>0.0</td>\n",
       "      <td>0.0</td>\n",
       "      <td>0.0</td>\n",
       "      <td>0.0</td>\n",
       "      <td>0.0</td>\n",
       "    </tr>\n",
       "    <tr>\n",
       "      <td>5</td>\n",
       "      <td>0</td>\n",
       "      <td>512</td>\n",
       "      <td>0</td>\n",
       "      <td>0.181111</td>\n",
       "      <td>0.0</td>\n",
       "      <td>0.0</td>\n",
       "      <td>0.0</td>\n",
       "      <td>0.0</td>\n",
       "      <td>0.0</td>\n",
       "      <td>0.0</td>\n",
       "      <td>...</td>\n",
       "      <td>0.0</td>\n",
       "      <td>0.0</td>\n",
       "      <td>0.0</td>\n",
       "      <td>0.0</td>\n",
       "      <td>0.0</td>\n",
       "      <td>0.0</td>\n",
       "      <td>0.0</td>\n",
       "      <td>0.0</td>\n",
       "      <td>0.0</td>\n",
       "      <td>0.0</td>\n",
       "    </tr>\n",
       "    <tr>\n",
       "      <td>6</td>\n",
       "      <td>1</td>\n",
       "      <td>517</td>\n",
       "      <td>0</td>\n",
       "      <td>0.157500</td>\n",
       "      <td>0.0</td>\n",
       "      <td>0.0</td>\n",
       "      <td>0.0</td>\n",
       "      <td>0.0</td>\n",
       "      <td>0.0</td>\n",
       "      <td>0.0</td>\n",
       "      <td>...</td>\n",
       "      <td>0.0</td>\n",
       "      <td>0.0</td>\n",
       "      <td>0.0</td>\n",
       "      <td>0.0</td>\n",
       "      <td>0.0</td>\n",
       "      <td>0.0</td>\n",
       "      <td>0.0</td>\n",
       "      <td>0.0</td>\n",
       "      <td>0.0</td>\n",
       "      <td>0.0</td>\n",
       "    </tr>\n",
       "  </tbody>\n",
       "</table>\n",
       "<p>5 rows × 7280 columns</p>\n",
       "</div>"
      ],
      "text/plain": [
       "   Recommended  Review_length  Exc_Count  Polarity    0    1    2    3    4  \\\n",
       "2            0            524          1  0.073209  0.0  0.0  0.0  0.0  0.0   \n",
       "3            1            141          3  0.560714  0.0  0.0  0.0  0.0  0.0   \n",
       "4            1            209          3  0.512891  0.0  0.0  0.0  0.0  0.0   \n",
       "5            0            512          0  0.181111  0.0  0.0  0.0  0.0  0.0   \n",
       "6            1            517          0  0.157500  0.0  0.0  0.0  0.0  0.0   \n",
       "\n",
       "     5  ...  7266  7267  7268  7269  7270  7271  7272  7273  7274  7275  \n",
       "2  0.0  ...   0.0   0.0   0.0   0.0   0.0   0.0   0.0   0.0   0.0   0.0  \n",
       "3  0.0  ...   0.0   0.0   0.0   0.0   0.0   0.0   0.0   0.0   0.0   0.0  \n",
       "4  0.0  ...   0.0   0.0   0.0   0.0   0.0   0.0   0.0   0.0   0.0   0.0  \n",
       "5  0.0  ...   0.0   0.0   0.0   0.0   0.0   0.0   0.0   0.0   0.0   0.0  \n",
       "6  0.0  ...   0.0   0.0   0.0   0.0   0.0   0.0   0.0   0.0   0.0   0.0  \n",
       "\n",
       "[5 rows x 7280 columns]"
      ]
     },
     "execution_count": 73,
     "metadata": {},
     "output_type": "execute_result"
    }
   ],
   "source": [
    "Thedata = pd.merge(prep.drop(columns='Review'),msg_tfidf, \n",
    "                  left_index=True, right_index=True )\n",
    "Thedata.head()\n",
    "\n"
   ]
  },
  {
   "cell_type": "markdown",
   "metadata": {},
   "source": [
    "splitting the data"
   ]
  },
  {
   "cell_type": "code",
   "execution_count": 74,
   "metadata": {},
   "outputs": [
    {
     "data": {
      "text/html": [
       "<div>\n",
       "<style scoped>\n",
       "    .dataframe tbody tr th:only-of-type {\n",
       "        vertical-align: middle;\n",
       "    }\n",
       "\n",
       "    .dataframe tbody tr th {\n",
       "        vertical-align: top;\n",
       "    }\n",
       "\n",
       "    .dataframe thead th {\n",
       "        text-align: right;\n",
       "    }\n",
       "</style>\n",
       "<table border=\"1\" class=\"dataframe\">\n",
       "  <thead>\n",
       "    <tr style=\"text-align: right;\">\n",
       "      <th></th>\n",
       "      <th>Review_length</th>\n",
       "      <th>Exc_Count</th>\n",
       "      <th>Polarity</th>\n",
       "      <th>0</th>\n",
       "      <th>1</th>\n",
       "      <th>2</th>\n",
       "      <th>3</th>\n",
       "      <th>4</th>\n",
       "      <th>5</th>\n",
       "      <th>6</th>\n",
       "      <th>...</th>\n",
       "      <th>7266</th>\n",
       "      <th>7267</th>\n",
       "      <th>7268</th>\n",
       "      <th>7269</th>\n",
       "      <th>7270</th>\n",
       "      <th>7271</th>\n",
       "      <th>7272</th>\n",
       "      <th>7273</th>\n",
       "      <th>7274</th>\n",
       "      <th>7275</th>\n",
       "    </tr>\n",
       "  </thead>\n",
       "  <tbody>\n",
       "    <tr>\n",
       "      <td>2</td>\n",
       "      <td>524</td>\n",
       "      <td>1</td>\n",
       "      <td>0.073209</td>\n",
       "      <td>0.0</td>\n",
       "      <td>0.0</td>\n",
       "      <td>0.0</td>\n",
       "      <td>0.0</td>\n",
       "      <td>0.0</td>\n",
       "      <td>0.0</td>\n",
       "      <td>0.0</td>\n",
       "      <td>...</td>\n",
       "      <td>0.0</td>\n",
       "      <td>0.0</td>\n",
       "      <td>0.0</td>\n",
       "      <td>0.0</td>\n",
       "      <td>0.0</td>\n",
       "      <td>0.0</td>\n",
       "      <td>0.0</td>\n",
       "      <td>0.0</td>\n",
       "      <td>0.0</td>\n",
       "      <td>0.0</td>\n",
       "    </tr>\n",
       "    <tr>\n",
       "      <td>3</td>\n",
       "      <td>141</td>\n",
       "      <td>3</td>\n",
       "      <td>0.560714</td>\n",
       "      <td>0.0</td>\n",
       "      <td>0.0</td>\n",
       "      <td>0.0</td>\n",
       "      <td>0.0</td>\n",
       "      <td>0.0</td>\n",
       "      <td>0.0</td>\n",
       "      <td>0.0</td>\n",
       "      <td>...</td>\n",
       "      <td>0.0</td>\n",
       "      <td>0.0</td>\n",
       "      <td>0.0</td>\n",
       "      <td>0.0</td>\n",
       "      <td>0.0</td>\n",
       "      <td>0.0</td>\n",
       "      <td>0.0</td>\n",
       "      <td>0.0</td>\n",
       "      <td>0.0</td>\n",
       "      <td>0.0</td>\n",
       "    </tr>\n",
       "    <tr>\n",
       "      <td>4</td>\n",
       "      <td>209</td>\n",
       "      <td>3</td>\n",
       "      <td>0.512891</td>\n",
       "      <td>0.0</td>\n",
       "      <td>0.0</td>\n",
       "      <td>0.0</td>\n",
       "      <td>0.0</td>\n",
       "      <td>0.0</td>\n",
       "      <td>0.0</td>\n",
       "      <td>0.0</td>\n",
       "      <td>...</td>\n",
       "      <td>0.0</td>\n",
       "      <td>0.0</td>\n",
       "      <td>0.0</td>\n",
       "      <td>0.0</td>\n",
       "      <td>0.0</td>\n",
       "      <td>0.0</td>\n",
       "      <td>0.0</td>\n",
       "      <td>0.0</td>\n",
       "      <td>0.0</td>\n",
       "      <td>0.0</td>\n",
       "    </tr>\n",
       "    <tr>\n",
       "      <td>5</td>\n",
       "      <td>512</td>\n",
       "      <td>0</td>\n",
       "      <td>0.181111</td>\n",
       "      <td>0.0</td>\n",
       "      <td>0.0</td>\n",
       "      <td>0.0</td>\n",
       "      <td>0.0</td>\n",
       "      <td>0.0</td>\n",
       "      <td>0.0</td>\n",
       "      <td>0.0</td>\n",
       "      <td>...</td>\n",
       "      <td>0.0</td>\n",
       "      <td>0.0</td>\n",
       "      <td>0.0</td>\n",
       "      <td>0.0</td>\n",
       "      <td>0.0</td>\n",
       "      <td>0.0</td>\n",
       "      <td>0.0</td>\n",
       "      <td>0.0</td>\n",
       "      <td>0.0</td>\n",
       "      <td>0.0</td>\n",
       "    </tr>\n",
       "    <tr>\n",
       "      <td>6</td>\n",
       "      <td>517</td>\n",
       "      <td>0</td>\n",
       "      <td>0.157500</td>\n",
       "      <td>0.0</td>\n",
       "      <td>0.0</td>\n",
       "      <td>0.0</td>\n",
       "      <td>0.0</td>\n",
       "      <td>0.0</td>\n",
       "      <td>0.0</td>\n",
       "      <td>0.0</td>\n",
       "      <td>...</td>\n",
       "      <td>0.0</td>\n",
       "      <td>0.0</td>\n",
       "      <td>0.0</td>\n",
       "      <td>0.0</td>\n",
       "      <td>0.0</td>\n",
       "      <td>0.0</td>\n",
       "      <td>0.0</td>\n",
       "      <td>0.0</td>\n",
       "      <td>0.0</td>\n",
       "      <td>0.0</td>\n",
       "    </tr>\n",
       "  </tbody>\n",
       "</table>\n",
       "<p>5 rows × 7279 columns</p>\n",
       "</div>"
      ],
      "text/plain": [
       "   Review_length  Exc_Count  Polarity    0    1    2    3    4    5    6  ...  \\\n",
       "2            524          1  0.073209  0.0  0.0  0.0  0.0  0.0  0.0  0.0  ...   \n",
       "3            141          3  0.560714  0.0  0.0  0.0  0.0  0.0  0.0  0.0  ...   \n",
       "4            209          3  0.512891  0.0  0.0  0.0  0.0  0.0  0.0  0.0  ...   \n",
       "5            512          0  0.181111  0.0  0.0  0.0  0.0  0.0  0.0  0.0  ...   \n",
       "6            517          0  0.157500  0.0  0.0  0.0  0.0  0.0  0.0  0.0  ...   \n",
       "\n",
       "   7266  7267  7268  7269  7270  7271  7272  7273  7274  7275  \n",
       "2   0.0   0.0   0.0   0.0   0.0   0.0   0.0   0.0   0.0   0.0  \n",
       "3   0.0   0.0   0.0   0.0   0.0   0.0   0.0   0.0   0.0   0.0  \n",
       "4   0.0   0.0   0.0   0.0   0.0   0.0   0.0   0.0   0.0   0.0  \n",
       "5   0.0   0.0   0.0   0.0   0.0   0.0   0.0   0.0   0.0   0.0  \n",
       "6   0.0   0.0   0.0   0.0   0.0   0.0   0.0   0.0   0.0   0.0  \n",
       "\n",
       "[5 rows x 7279 columns]"
      ]
     },
     "execution_count": 74,
     "metadata": {},
     "output_type": "execute_result"
    }
   ],
   "source": [
    "X = Thedata.drop('Recommended', axis=1)\n",
    "Y = Thedata.Recommended\n",
    "\n",
    "X.head()\n"
   ]
  },
  {
   "cell_type": "code",
   "execution_count": 75,
   "metadata": {},
   "outputs": [
    {
     "data": {
      "text/plain": [
       "(16462, 7279)"
      ]
     },
     "execution_count": 75,
     "metadata": {},
     "output_type": "execute_result"
    }
   ],
   "source": [
    "X.shape"
   ]
  },
  {
   "cell_type": "code",
   "execution_count": 76,
   "metadata": {
    "scrolled": true
   },
   "outputs": [
    {
     "data": {
      "text/html": [
       "<div>\n",
       "<style scoped>\n",
       "    .dataframe tbody tr th:only-of-type {\n",
       "        vertical-align: middle;\n",
       "    }\n",
       "\n",
       "    .dataframe tbody tr th {\n",
       "        vertical-align: top;\n",
       "    }\n",
       "\n",
       "    .dataframe thead th {\n",
       "        text-align: right;\n",
       "    }\n",
       "</style>\n",
       "<table border=\"1\" class=\"dataframe\">\n",
       "  <thead>\n",
       "    <tr style=\"text-align: right;\">\n",
       "      <th></th>\n",
       "      <th>Review_length</th>\n",
       "      <th>Exc_Count</th>\n",
       "      <th>Polarity</th>\n",
       "      <th>0</th>\n",
       "      <th>1</th>\n",
       "      <th>2</th>\n",
       "      <th>3</th>\n",
       "      <th>4</th>\n",
       "      <th>5</th>\n",
       "      <th>6</th>\n",
       "      <th>...</th>\n",
       "      <th>7266</th>\n",
       "      <th>7267</th>\n",
       "      <th>7268</th>\n",
       "      <th>7269</th>\n",
       "      <th>7270</th>\n",
       "      <th>7271</th>\n",
       "      <th>7272</th>\n",
       "      <th>7273</th>\n",
       "      <th>7274</th>\n",
       "      <th>7275</th>\n",
       "    </tr>\n",
       "  </thead>\n",
       "  <tbody>\n",
       "    <tr>\n",
       "      <td>count</td>\n",
       "      <td>16462.000000</td>\n",
       "      <td>16462.000000</td>\n",
       "      <td>16462.000000</td>\n",
       "      <td>16462.000000</td>\n",
       "      <td>16462.000000</td>\n",
       "      <td>16462.000000</td>\n",
       "      <td>16462.000000</td>\n",
       "      <td>16462.000000</td>\n",
       "      <td>16462.000000</td>\n",
       "      <td>16462.000000</td>\n",
       "      <td>...</td>\n",
       "      <td>16462.000000</td>\n",
       "      <td>16462.000000</td>\n",
       "      <td>16462.000000</td>\n",
       "      <td>16462.000000</td>\n",
       "      <td>16462.000000</td>\n",
       "      <td>16462.000000</td>\n",
       "      <td>16462.000000</td>\n",
       "      <td>16462.000000</td>\n",
       "      <td>16462.000000</td>\n",
       "      <td>16462.000000</td>\n",
       "    </tr>\n",
       "    <tr>\n",
       "      <td>mean</td>\n",
       "      <td>338.276030</td>\n",
       "      <td>0.876503</td>\n",
       "      <td>0.266007</td>\n",
       "      <td>0.000024</td>\n",
       "      <td>0.000030</td>\n",
       "      <td>0.000024</td>\n",
       "      <td>0.000021</td>\n",
       "      <td>0.000086</td>\n",
       "      <td>0.000021</td>\n",
       "      <td>0.000020</td>\n",
       "      <td>...</td>\n",
       "      <td>0.000050</td>\n",
       "      <td>0.000025</td>\n",
       "      <td>0.000076</td>\n",
       "      <td>0.000072</td>\n",
       "      <td>0.000082</td>\n",
       "      <td>0.000021</td>\n",
       "      <td>0.002140</td>\n",
       "      <td>0.000288</td>\n",
       "      <td>0.000030</td>\n",
       "      <td>0.000121</td>\n",
       "    </tr>\n",
       "    <tr>\n",
       "      <td>std</td>\n",
       "      <td>144.664277</td>\n",
       "      <td>1.414427</td>\n",
       "      <td>0.172859</td>\n",
       "      <td>0.003141</td>\n",
       "      <td>0.003797</td>\n",
       "      <td>0.003100</td>\n",
       "      <td>0.002750</td>\n",
       "      <td>0.006477</td>\n",
       "      <td>0.002696</td>\n",
       "      <td>0.002550</td>\n",
       "      <td>...</td>\n",
       "      <td>0.004584</td>\n",
       "      <td>0.003209</td>\n",
       "      <td>0.004955</td>\n",
       "      <td>0.005367</td>\n",
       "      <td>0.006109</td>\n",
       "      <td>0.002728</td>\n",
       "      <td>0.027677</td>\n",
       "      <td>0.010313</td>\n",
       "      <td>0.003801</td>\n",
       "      <td>0.007060</td>\n",
       "    </tr>\n",
       "    <tr>\n",
       "      <td>min</td>\n",
       "      <td>23.000000</td>\n",
       "      <td>0.000000</td>\n",
       "      <td>-0.987500</td>\n",
       "      <td>0.000000</td>\n",
       "      <td>0.000000</td>\n",
       "      <td>0.000000</td>\n",
       "      <td>0.000000</td>\n",
       "      <td>0.000000</td>\n",
       "      <td>0.000000</td>\n",
       "      <td>0.000000</td>\n",
       "      <td>...</td>\n",
       "      <td>0.000000</td>\n",
       "      <td>0.000000</td>\n",
       "      <td>0.000000</td>\n",
       "      <td>0.000000</td>\n",
       "      <td>0.000000</td>\n",
       "      <td>0.000000</td>\n",
       "      <td>0.000000</td>\n",
       "      <td>0.000000</td>\n",
       "      <td>0.000000</td>\n",
       "      <td>0.000000</td>\n",
       "    </tr>\n",
       "    <tr>\n",
       "      <td>25%</td>\n",
       "      <td>217.000000</td>\n",
       "      <td>0.000000</td>\n",
       "      <td>0.158333</td>\n",
       "      <td>0.000000</td>\n",
       "      <td>0.000000</td>\n",
       "      <td>0.000000</td>\n",
       "      <td>0.000000</td>\n",
       "      <td>0.000000</td>\n",
       "      <td>0.000000</td>\n",
       "      <td>0.000000</td>\n",
       "      <td>...</td>\n",
       "      <td>0.000000</td>\n",
       "      <td>0.000000</td>\n",
       "      <td>0.000000</td>\n",
       "      <td>0.000000</td>\n",
       "      <td>0.000000</td>\n",
       "      <td>0.000000</td>\n",
       "      <td>0.000000</td>\n",
       "      <td>0.000000</td>\n",
       "      <td>0.000000</td>\n",
       "      <td>0.000000</td>\n",
       "    </tr>\n",
       "    <tr>\n",
       "      <td>50%</td>\n",
       "      <td>335.000000</td>\n",
       "      <td>0.000000</td>\n",
       "      <td>0.260917</td>\n",
       "      <td>0.000000</td>\n",
       "      <td>0.000000</td>\n",
       "      <td>0.000000</td>\n",
       "      <td>0.000000</td>\n",
       "      <td>0.000000</td>\n",
       "      <td>0.000000</td>\n",
       "      <td>0.000000</td>\n",
       "      <td>...</td>\n",
       "      <td>0.000000</td>\n",
       "      <td>0.000000</td>\n",
       "      <td>0.000000</td>\n",
       "      <td>0.000000</td>\n",
       "      <td>0.000000</td>\n",
       "      <td>0.000000</td>\n",
       "      <td>0.000000</td>\n",
       "      <td>0.000000</td>\n",
       "      <td>0.000000</td>\n",
       "      <td>0.000000</td>\n",
       "    </tr>\n",
       "    <tr>\n",
       "      <td>75%</td>\n",
       "      <td>496.000000</td>\n",
       "      <td>1.000000</td>\n",
       "      <td>0.370346</td>\n",
       "      <td>0.000000</td>\n",
       "      <td>0.000000</td>\n",
       "      <td>0.000000</td>\n",
       "      <td>0.000000</td>\n",
       "      <td>0.000000</td>\n",
       "      <td>0.000000</td>\n",
       "      <td>0.000000</td>\n",
       "      <td>...</td>\n",
       "      <td>0.000000</td>\n",
       "      <td>0.000000</td>\n",
       "      <td>0.000000</td>\n",
       "      <td>0.000000</td>\n",
       "      <td>0.000000</td>\n",
       "      <td>0.000000</td>\n",
       "      <td>0.000000</td>\n",
       "      <td>0.000000</td>\n",
       "      <td>0.000000</td>\n",
       "      <td>0.000000</td>\n",
       "    </tr>\n",
       "    <tr>\n",
       "      <td>max</td>\n",
       "      <td>557.000000</td>\n",
       "      <td>41.000000</td>\n",
       "      <td>1.000000</td>\n",
       "      <td>0.402950</td>\n",
       "      <td>0.487127</td>\n",
       "      <td>0.397742</td>\n",
       "      <td>0.352831</td>\n",
       "      <td>0.599438</td>\n",
       "      <td>0.345961</td>\n",
       "      <td>0.327221</td>\n",
       "      <td>...</td>\n",
       "      <td>0.450050</td>\n",
       "      <td>0.411746</td>\n",
       "      <td>0.382198</td>\n",
       "      <td>0.400073</td>\n",
       "      <td>0.496882</td>\n",
       "      <td>0.350035</td>\n",
       "      <td>0.629009</td>\n",
       "      <td>0.484782</td>\n",
       "      <td>0.487703</td>\n",
       "      <td>0.526879</td>\n",
       "    </tr>\n",
       "  </tbody>\n",
       "</table>\n",
       "<p>8 rows × 7279 columns</p>\n",
       "</div>"
      ],
      "text/plain": [
       "       Review_length     Exc_Count      Polarity             0             1  \\\n",
       "count   16462.000000  16462.000000  16462.000000  16462.000000  16462.000000   \n",
       "mean      338.276030      0.876503      0.266007      0.000024      0.000030   \n",
       "std       144.664277      1.414427      0.172859      0.003141      0.003797   \n",
       "min        23.000000      0.000000     -0.987500      0.000000      0.000000   \n",
       "25%       217.000000      0.000000      0.158333      0.000000      0.000000   \n",
       "50%       335.000000      0.000000      0.260917      0.000000      0.000000   \n",
       "75%       496.000000      1.000000      0.370346      0.000000      0.000000   \n",
       "max       557.000000     41.000000      1.000000      0.402950      0.487127   \n",
       "\n",
       "                  2             3             4             5             6  \\\n",
       "count  16462.000000  16462.000000  16462.000000  16462.000000  16462.000000   \n",
       "mean       0.000024      0.000021      0.000086      0.000021      0.000020   \n",
       "std        0.003100      0.002750      0.006477      0.002696      0.002550   \n",
       "min        0.000000      0.000000      0.000000      0.000000      0.000000   \n",
       "25%        0.000000      0.000000      0.000000      0.000000      0.000000   \n",
       "50%        0.000000      0.000000      0.000000      0.000000      0.000000   \n",
       "75%        0.000000      0.000000      0.000000      0.000000      0.000000   \n",
       "max        0.397742      0.352831      0.599438      0.345961      0.327221   \n",
       "\n",
       "       ...          7266          7267          7268          7269  \\\n",
       "count  ...  16462.000000  16462.000000  16462.000000  16462.000000   \n",
       "mean   ...      0.000050      0.000025      0.000076      0.000072   \n",
       "std    ...      0.004584      0.003209      0.004955      0.005367   \n",
       "min    ...      0.000000      0.000000      0.000000      0.000000   \n",
       "25%    ...      0.000000      0.000000      0.000000      0.000000   \n",
       "50%    ...      0.000000      0.000000      0.000000      0.000000   \n",
       "75%    ...      0.000000      0.000000      0.000000      0.000000   \n",
       "max    ...      0.450050      0.411746      0.382198      0.400073   \n",
       "\n",
       "               7270          7271          7272          7273          7274  \\\n",
       "count  16462.000000  16462.000000  16462.000000  16462.000000  16462.000000   \n",
       "mean       0.000082      0.000021      0.002140      0.000288      0.000030   \n",
       "std        0.006109      0.002728      0.027677      0.010313      0.003801   \n",
       "min        0.000000      0.000000      0.000000      0.000000      0.000000   \n",
       "25%        0.000000      0.000000      0.000000      0.000000      0.000000   \n",
       "50%        0.000000      0.000000      0.000000      0.000000      0.000000   \n",
       "75%        0.000000      0.000000      0.000000      0.000000      0.000000   \n",
       "max        0.496882      0.350035      0.629009      0.484782      0.487703   \n",
       "\n",
       "               7275  \n",
       "count  16462.000000  \n",
       "mean       0.000121  \n",
       "std        0.007060  \n",
       "min        0.000000  \n",
       "25%        0.000000  \n",
       "50%        0.000000  \n",
       "75%        0.000000  \n",
       "max        0.526879  \n",
       "\n",
       "[8 rows x 7279 columns]"
      ]
     },
     "execution_count": 76,
     "metadata": {},
     "output_type": "execute_result"
    }
   ],
   "source": [
    "X.describe()"
   ]
  },
  {
   "cell_type": "code",
   "execution_count": 77,
   "metadata": {},
   "outputs": [
    {
     "data": {
      "text/plain": [
       "((11523, 7279), (4939, 7279), (11523,), (4939,))"
      ]
     },
     "execution_count": 77,
     "metadata": {},
     "output_type": "execute_result"
    }
   ],
   "source": [
    "X_train, X_test, Y_train, Y_test = split(X,Y, test_size=0.3, stratify=Y, random_state=111)\n",
    "X_train.shape, X_test.shape, Y_train.shape, Y_test.shape"
   ]
  },
  {
   "cell_type": "code",
   "execution_count": 78,
   "metadata": {},
   "outputs": [
    {
     "data": {
      "text/plain": [
       "1    0.818624\n",
       "0    0.181376\n",
       "Name: Recommended, dtype: float64"
      ]
     },
     "execution_count": 78,
     "metadata": {},
     "output_type": "execute_result"
    }
   ],
   "source": [
    "Y_train.value_counts(normalize=True)"
   ]
  },
  {
   "cell_type": "code",
   "execution_count": 79,
   "metadata": {},
   "outputs": [
    {
     "data": {
      "text/plain": [
       "1    0.818587\n",
       "0    0.181413\n",
       "Name: Recommended, dtype: float64"
      ]
     },
     "execution_count": 79,
     "metadata": {},
     "output_type": "execute_result"
    }
   ],
   "source": [
    "Y_test.value_counts(normalize=True)"
   ]
  },
  {
   "cell_type": "markdown",
   "metadata": {},
   "source": [
    "Logistic Regression Model"
   ]
  },
  {
   "cell_type": "code",
   "execution_count": 80,
   "metadata": {},
   "outputs": [
    {
     "data": {
      "text/plain": [
       "LogisticRegression(C=1.0, class_weight=None, dual=False, fit_intercept=True,\n",
       "                   intercept_scaling=1, l1_ratio=None, max_iter=100,\n",
       "                   multi_class='warn', n_jobs=None, penalty='l2',\n",
       "                   random_state=None, solver='warn', tol=0.0001, verbose=0,\n",
       "                   warm_start=False)"
      ]
     },
     "execution_count": 80,
     "metadata": {},
     "output_type": "execute_result"
    }
   ],
   "source": [
    "#fit the model \n",
    "logitmod = LogisticRegression()\n",
    "logitmod.fit(X_train,Y_train)"
   ]
  },
  {
   "cell_type": "code",
   "execution_count": 81,
   "metadata": {},
   "outputs": [
    {
     "name": "stdout",
     "output_type": "stream",
     "text": [
      "[[ 206  690]\n",
      " [ 133 3910]]\n"
     ]
    }
   ],
   "source": [
    "predictions = logitmod.predict(X_test)\n",
    "print(confusion_matrix(Y_test,predictions))"
   ]
  },
  {
   "cell_type": "markdown",
   "metadata": {},
   "source": [
    "# KNN Classification - Week 4 "
   ]
  },
  {
   "cell_type": "code",
   "execution_count": 85,
   "metadata": {},
   "outputs": [
    {
     "name": "stdout",
     "output_type": "stream",
     "text": [
      "n= 1\n",
      "Accuracy: 1.0\n",
      "Cross Validation Scores [0.74273319 0.7362256  0.74316703 0.74522569 0.73307292]\n",
      "0.74 (+/- 0.01)\n",
      "n= 2\n",
      "Accuracy: 0.8747721947409529\n",
      "Cross Validation Scores [0.67071584 0.66724512 0.66420824 0.65407986 0.66536458]\n",
      "0.66 (+/- 0.01)\n",
      "n= 3\n",
      "Accuracy: 0.8690445196563394\n",
      "Cross Validation Scores [0.78438178 0.78264642 0.78481562 0.78255208 0.78385417]\n",
      "0.78 (+/- 0.00)\n",
      "n= 4\n",
      "Accuracy: 0.852902889872429\n",
      "Cross Validation Scores [0.74967462 0.75010846 0.7483731  0.75       0.75954861]\n",
      "0.75 (+/- 0.01)\n",
      "n= 5\n",
      "Accuracy: 0.8460470363620585\n",
      "Cross Validation Scores [0.79088937 0.80086768 0.79956616 0.79600694 0.79253472]\n",
      "0.80 (+/- 0.01)\n",
      "n= 6\n",
      "Accuracy: 0.8392779658075155\n",
      "Cross Validation Scores [0.77136659 0.77744035 0.78611714 0.77473958 0.78602431]\n",
      "0.78 (+/- 0.01)\n",
      "n= 7\n",
      "Accuracy: 0.8342445543695218\n",
      "Cross Validation Scores [0.80173536 0.8021692  0.80433839 0.80815972 0.80555556]\n",
      "0.80 (+/- 0.00)\n",
      "n= 8\n",
      "Accuracy: 0.8328560270762823\n",
      "Cross Validation Scores [0.78958785 0.79479393 0.80173536 0.79600694 0.79774306]\n",
      "0.80 (+/- 0.01)\n",
      "n= 9\n",
      "Accuracy: 0.8291243599757008\n",
      "Cross Validation Scores [0.80607375 0.81214751 0.80824295 0.81597222 0.80902778]\n",
      "0.81 (+/- 0.01)\n"
     ]
    }
   ],
   "source": [
    "from sklearn.neighbors import KNeighborsClassifier\n",
    "n=list(range(1,10))\n",
    "for i in n:\n",
    "    print('n=',i)\n",
    "    knn = KNeighborsClassifier(n_neighbors=i)\n",
    "    knn = knn.fit(X_train, Y_train)\n",
    "\n",
    "    print('Accuracy:',knn.score(X_train, Y_train))\n",
    "\n",
    "    #Cross Validation \n",
    "    from sklearn.model_selection import cross_val_score\n",
    "    knnscore = cross_val_score(knn,X_train, Y_train, cv=5)\n",
    "    print('Cross Validation Scores',knnscore)\n",
    "    print(\"%0.2f (+/- %0.2f)\" % (knnscore.mean(), knnscore.std() * 2))\n",
    "\n",
    "#plt.plot(n, knnscore)\n",
    "#plt.xlabel('Value of K for KNN')\n",
    "#plt.ylabel('Cross-Validated Accuracy')\n",
    "#plt.show()"
   ]
  },
  {
   "cell_type": "code",
   "execution_count": 94,
   "metadata": {},
   "outputs": [],
   "source": [
    "import matplotlib.pyplot as plt\n",
    "k_range = range(1, 10)\n",
    "k_scores = []\n",
    "for k in k_range:\n",
    "    knn = KNeighborsClassifier(n_neighbors=k)\n",
    "    loss = abs(cross_val_score(knn, X_train, Y_train, cv=5, scoring='neg_mean_squared_error'))\n",
    "    k_scores.append(loss.mean())\n",
    "plt.plot(k_range, k_scores)\n",
    "plt.xlabel('Value of K for KNN')\n",
    "plt.ylabel('Cross-Validated MSE')\n",
    "plt.show()"
   ]
  },
  {
   "cell_type": "code",
   "execution_count": 88,
   "metadata": {},
   "outputs": [
    {
     "name": "stdout",
     "output_type": "stream",
     "text": [
      "Accuracy: 0.8747721947409529\n",
      "Cross Validation Scores [0.67071584 0.66724512 0.66420824 0.65407986 0.66536458]\n",
      "0.66 (+/- 0.01)\n"
     ]
    },
    {
     "data": {
      "text/html": [
       "<div>\n",
       "<style scoped>\n",
       "    .dataframe tbody tr th:only-of-type {\n",
       "        vertical-align: middle;\n",
       "    }\n",
       "\n",
       "    .dataframe tbody tr th {\n",
       "        vertical-align: top;\n",
       "    }\n",
       "\n",
       "    .dataframe thead th {\n",
       "        text-align: right;\n",
       "    }\n",
       "</style>\n",
       "<table border=\"1\" class=\"dataframe\">\n",
       "  <thead>\n",
       "    <tr style=\"text-align: right;\">\n",
       "      <th>col_0</th>\n",
       "      <th>0</th>\n",
       "      <th>1</th>\n",
       "    </tr>\n",
       "    <tr>\n",
       "      <th>Recommended</th>\n",
       "      <th></th>\n",
       "      <th></th>\n",
       "    </tr>\n",
       "  </thead>\n",
       "  <tbody>\n",
       "    <tr>\n",
       "      <td>0</td>\n",
       "      <td>2090</td>\n",
       "      <td>0</td>\n",
       "    </tr>\n",
       "    <tr>\n",
       "      <td>1</td>\n",
       "      <td>1443</td>\n",
       "      <td>7990</td>\n",
       "    </tr>\n",
       "  </tbody>\n",
       "</table>\n",
       "</div>"
      ],
      "text/plain": [
       "col_0           0     1\n",
       "Recommended            \n",
       "0            2090     0\n",
       "1            1443  7990"
      ]
     },
     "execution_count": 88,
     "metadata": {},
     "output_type": "execute_result"
    }
   ],
   "source": [
    "from sklearn.neighbors import KNeighborsClassifier\n",
    "knn = KNeighborsClassifier(n_neighbors=2)\n",
    "knn = knn.fit(X_train, Y_train)\n",
    "\n",
    "print('Accuracy:',knn.score(X_train, Y_train))\n",
    "\n",
    "#Cross Validation \n",
    "from sklearn.model_selection import cross_val_score\n",
    "knnscore = cross_val_score(knn,X_train, Y_train, cv=5)\n",
    "print('Cross Validation Scores',knnscore)\n",
    "print(\"%0.2f (+/- %0.2f)\" % (knnscore.mean(), knnscore.std() * 2))\n",
    "\n",
    "knn_predicted =knn.predict(X_train)\n",
    "pd.crosstab(Y_train, knn_predicted)"
   ]
  },
  {
   "cell_type": "markdown",
   "metadata": {},
   "source": [
    "# Random Forest"
   ]
  },
  {
   "cell_type": "code",
   "execution_count": 89,
   "metadata": {},
   "outputs": [],
   "source": [
    "from sklearn import ensemble\n",
    "rfc = ensemble.RandomForestClassifier(n_estimators=100)\n",
    "rfc = rfc.fit(X_train, Y_train)"
   ]
  },
  {
   "cell_type": "code",
   "execution_count": 91,
   "metadata": {},
   "outputs": [
    {
     "name": "stdout",
     "output_type": "stream",
     "text": [
      "[[ 110  786]\n",
      " [  48 3995]]\n"
     ]
    }
   ],
   "source": [
    "test_prediction = rfc.predict(X_test)\n",
    "print(confusion_matrix(Y_test,test_prediction))"
   ]
  },
  {
   "cell_type": "code",
   "execution_count": 92,
   "metadata": {},
   "outputs": [
    {
     "name": "stdout",
     "output_type": "stream",
     "text": [
      "Mean Absolute Error: 0.1688600931362624\n",
      "Mean Squared Error: 0.1688600931362624\n",
      "Root Mean Squared Error: 0.4109258973784232\n"
     ]
    }
   ],
   "source": [
    "print('Mean Absolute Error:', metrics.mean_absolute_error(Y_test, test_prediction))\n",
    "print('Mean Squared Error:', metrics.mean_squared_error(Y_test, test_prediction))\n",
    "print('Root Mean Squared Error:', np.sqrt(metrics.mean_squared_error(Y_test, test_prediction)))"
   ]
  },
  {
   "cell_type": "code",
   "execution_count": 98,
   "metadata": {},
   "outputs": [],
   "source": [
    "rfc1 = ensemble.RandomForestClassifier(n_estimators=500)\n",
    "rfc1 = rfc1.fit(X_train, Y_train)"
   ]
  },
  {
   "cell_type": "code",
   "execution_count": 99,
   "metadata": {},
   "outputs": [
    {
     "name": "stdout",
     "output_type": "stream",
     "text": [
      "[[ 116  780]\n",
      " [  44 3999]]\n"
     ]
    }
   ],
   "source": [
    "test_prediction1 = rfc1.predict(X_test)\n",
    "print(confusion_matrix(Y_test,test_prediction1))"
   ]
  },
  {
   "cell_type": "code",
   "execution_count": 100,
   "metadata": {},
   "outputs": [
    {
     "name": "stdout",
     "output_type": "stream",
     "text": [
      "Mean Absolute Error: 0.1668353917797125\n",
      "Mean Squared Error: 0.1668353917797125\n",
      "Root Mean Squared Error: 0.4084548834078404\n"
     ]
    }
   ],
   "source": [
    "print('Mean Absolute Error:', metrics.mean_absolute_error(Y_test, test_prediction1))\n",
    "print('Mean Squared Error:', metrics.mean_squared_error(Y_test, test_prediction1))\n",
    "print('Root Mean Squared Error:', np.sqrt(metrics.mean_squared_error(Y_test, test_prediction1)))"
   ]
  },
  {
   "cell_type": "code",
   "execution_count": 106,
   "metadata": {},
   "outputs": [],
   "source": [
    "rfc2 = ensemble.RandomForestClassifier(n_estimators=1000)\n",
    "rfc2 = rfc2.fit(X_train, Y_train)"
   ]
  },
  {
   "cell_type": "code",
   "execution_count": 108,
   "metadata": {},
   "outputs": [
    {
     "name": "stdout",
     "output_type": "stream",
     "text": [
      "[[ 101  795]\n",
      " [  43 4000]]\n"
     ]
    }
   ],
   "source": [
    "test_prediction3 = rfc2.predict(X_test)\n",
    "print(confusion_matrix(Y_test,test_prediction2))"
   ]
  },
  {
   "cell_type": "code",
   "execution_count": 109,
   "metadata": {},
   "outputs": [
    {
     "name": "stdout",
     "output_type": "stream",
     "text": [
      "Mean Absolute Error: 0.16966997367888237\n",
      "Mean Squared Error: 0.16966997367888237\n",
      "Root Mean Squared Error: 0.4119101524348269\n"
     ]
    }
   ],
   "source": [
    "print('Mean Absolute Error:', metrics.mean_absolute_error(Y_test, test_prediction2))\n",
    "print('Mean Squared Error:', metrics.mean_squared_error(Y_test, test_prediction2))\n",
    "print('Root Mean Squared Error:', np.sqrt(metrics.mean_squared_error(Y_test, test_prediction2)))"
   ]
  }
 ],
 "metadata": {
  "kernelspec": {
   "display_name": "Python 3",
   "language": "python",
   "name": "python3"
  },
  "language_info": {
   "codemirror_mode": {
    "name": "ipython",
    "version": 3
   },
   "file_extension": ".py",
   "mimetype": "text/x-python",
   "name": "python",
   "nbconvert_exporter": "python",
   "pygments_lexer": "ipython3",
   "version": "3.7.6"
  }
 },
 "nbformat": 4,
 "nbformat_minor": 2
}
